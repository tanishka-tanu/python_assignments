{
 "cells": [
  {
   "cell_type": "markdown",
   "id": "6d136aeb-92dd-44fd-8ad0-237ed9bd52a1",
   "metadata": {},
   "source": [
    "# Assignment - 6"
   ]
  },
  {
   "cell_type": "raw",
   "id": "7310cd50-c15e-45c9-9807-95b5cdb9c287",
   "metadata": {},
   "source": [
    "Q1 - how to convert data strings to time series ?"
   ]
  },
  {
   "cell_type": "code",
   "execution_count": 2,
   "id": "4dc9f5ef-aa92-422d-922e-617971222414",
   "metadata": {},
   "outputs": [
    {
     "name": "stdout",
     "output_type": "stream",
     "text": [
      "         date  value\n",
      "0  2025-06-01     10\n",
      "1  2025-06-02     15\n",
      "2  2025-06-03     20\n"
     ]
    }
   ],
   "source": [
    "import pandas as pd\n",
    "data = {'date': ['2025-06-01', '2025-06-02', '2025-06-03'],\n",
    "        'value': [10, 15, 20]}\n",
    "\n",
    "df = pd.DataFrame(data)\n",
    "print(df)\n"
   ]
  },
  {
   "cell_type": "raw",
   "id": "13799c93-c89f-424c-882d-31f1258c4436",
   "metadata": {},
   "source": [
    "Q2 - Create two dataframe with a common column id -\n",
    "      - perform an inner merge on this common column and display the result\n",
    "      - perform a left join of df1 and df2 on id column . expain how missing values are handled in dataframe. Right join and index based join\n",
    "      - perform a right join uding pd.merge() , on common column  , then perform a join using df.join() based on the index .Compare the result ,\n",
    "        Merging with multiple keys"
   ]
  },
  {
   "cell_type": "code",
   "execution_count": 4,
   "id": "5d20d0c1-1837-4fb7-b4ef-999bc65d3037",
   "metadata": {},
   "outputs": [
    {
     "name": "stdout",
     "output_type": "stream",
     "text": [
      "Inner Merge:\n",
      "    id    name  score\n",
      "0   3  Charul     85\n",
      "1   4   Dhruv     90\n"
     ]
    }
   ],
   "source": [
    "import pandas as pd\n",
    "\n",
    "df1 = pd.DataFrame({\n",
    "    'id': [1, 2, 3, 4],\n",
    "    'name': ['Ali', 'Jasmine', 'Charul', 'Dhruv']\n",
    "})\n",
    "\n",
    "df2 = pd.DataFrame({\n",
    "    'id': [3, 4, 5, 6],\n",
    "    'score': [85, 90, 75, 88]\n",
    "})\n",
    "#inner merge\n",
    "inner_merge = pd.merge(df1, df2, on='id', how='inner')\n",
    "print(\"Inner Merge:\\n\", inner_merge)\n",
    "\n"
   ]
  },
  {
   "cell_type": "code",
   "execution_count": 8,
   "id": "13027f6a-ae10-440f-a88c-426fdf150cfa",
   "metadata": {},
   "outputs": [
    {
     "name": "stdout",
     "output_type": "stream",
     "text": [
      "Left Join:\n",
      "    id     name  score\n",
      "0   1      Ali    NaN\n",
      "1   2  Jasmine    NaN\n",
      "2   3   Charul   85.0\n",
      "3   4    Dhruv   90.0\n"
     ]
    }
   ],
   "source": [
    "# left join\n",
    "left_join = pd.merge(df1, df2, on='id', how='left')\n",
    "print(\"Left Join:\\n\", left_join)\n",
    "#Explanation of Missing Values:\n",
    "#NaN (Not a Number) appears when there is no matching id in df2.\n",
    "#For example, id 1 and 2 are only in df1, so their score is NaN."
   ]
  },
  {
   "cell_type": "code",
   "execution_count": 10,
   "id": "071a851b-b7e2-48ac-9730-6c5e11408ca2",
   "metadata": {},
   "outputs": [
    {
     "name": "stdout",
     "output_type": "stream",
     "text": [
      "Right Join:\n",
      "    id    name  score\n",
      "0   3  Charul     85\n",
      "1   4   Dhruv     90\n",
      "2   5     NaN     75\n",
      "3   6     NaN     88\n"
     ]
    }
   ],
   "source": [
    "#right join\n",
    "right_join = pd.merge(df1, df2, on='id', how='right')\n",
    "print(\"Right Join:\\n\", right_join)\n"
   ]
  },
  {
   "cell_type": "code",
   "execution_count": 12,
   "id": "2b0f11b6-3f44-4990-b4c9-b67ad0927d57",
   "metadata": {},
   "outputs": [
    {
     "name": "stdout",
     "output_type": "stream",
     "text": [
      "Join based on index:\n",
      "       name  score\n",
      "id               \n",
      "3   Charul     85\n",
      "4    Dhruv     90\n"
     ]
    }
   ],
   "source": [
    "# index based join\n",
    "df1_indexed = df1.set_index('id')\n",
    "df2_indexed = df2.set_index('id')\n",
    "\n",
    "index_join = df1_indexed.join(df2_indexed, how='inner')\n",
    "print(\"Join based on index:\\n\", index_join)\n"
   ]
  },
  {
   "cell_type": "code",
   "execution_count": 14,
   "id": "3a969687-8a40-4aea-b19d-0e7955632741",
   "metadata": {},
   "outputs": [
    {
     "name": "stdout",
     "output_type": "stream",
     "text": [
      "Multiple Key Merge:\n",
      "    id subject  marks teacher\n",
      "0   2     sci     70       A\n",
      "1   3     eng     80       C\n",
      "2   4     sci     90       D\n"
     ]
    }
   ],
   "source": [
    "# Creating DataFrames with multiple keys\n",
    "df3 = pd.DataFrame({\n",
    "    'id': [1, 2, 3, 4],\n",
    "    'subject': ['math', 'sci', 'eng', 'sci'],\n",
    "    'marks': [60, 70, 80, 90]\n",
    "})\n",
    "\n",
    "df4 = pd.DataFrame({\n",
    "    'id': [2, 2, 3, 4],\n",
    "    'subject': ['sci', 'math', 'eng', 'sci'],\n",
    "    'teacher': ['A', 'B', 'C', 'D']\n",
    "})\n",
    "\n",
    "multi_key_merge = pd.merge(df3, df4, on=['id', 'subject'], how='inner')\n",
    "print(\"Multiple Key Merge:\\n\", multi_key_merge)\n"
   ]
  },
  {
   "cell_type": "raw",
   "id": "744602b1-40c4-4da7-9564-bc4a6c54ba11",
   "metadata": {},
   "source": [
    "Difference bet pd.merge() and df.join()\n",
    "\n",
    "pd.merge()\t\n",
    "\t-Can join any column\t\n",
    "    -More flexible for merging on multiple keys\t\n",
    "    -pd.merge(df1, df2, on='col')\t\n",
    "\n",
    "\n",
    "df.join()\n",
    "    -Joins by index by default\n",
    "    -Less flexible\n",
    "    -df1.join(df2) or df1.join(df2.set_index())"
   ]
  },
  {
   "cell_type": "raw",
   "id": "1dce2e08-c6a2-4838-ad6f-6193c4a85365",
   "metadata": {},
   "source": [
    "Q3 - Create 3 dataframe . vertically concatenate 2 of them using pd.concat(),then merge the resulting dataframe with\n",
    "     the third dataframe on a common key . Explain primary difference bew df.join() and pd.merge()"
   ]
  },
  {
   "cell_type": "code",
   "execution_count": 16,
   "id": "165ce3a1-f2d0-4dc3-b3cf-ad147c359601",
   "metadata": {},
   "outputs": [],
   "source": [
    "import pandas as pd\n",
    "\n",
    "df1 = pd.DataFrame({\n",
    "    'id': [1, 2],\n",
    "    'name': ['Naman', 'sanjay']\n",
    "})\n",
    "\n",
    "df2 = pd.DataFrame({\n",
    "    'id': [3, 4],\n",
    "    'name': ['Jaya', 'Chitra']\n",
    "})\n",
    "\n",
    "df3 = pd.DataFrame({\n",
    "    'id': [2, 3, 4],\n",
    "    'marks': [80, 85, 90]\n",
    "})\n"
   ]
  },
  {
   "cell_type": "code",
   "execution_count": 18,
   "id": "cc9777c5-8906-43da-b555-c376e5695ec6",
   "metadata": {},
   "outputs": [
    {
     "name": "stdout",
     "output_type": "stream",
     "text": [
      "Concatenated DataFrame:\n",
      "    id    name\n",
      "0   1   Naman\n",
      "1   2  sanjay\n",
      "2   3    Jaya\n",
      "3   4  Chitra\n"
     ]
    }
   ],
   "source": [
    "concat = pd.concat([df1, df2], ignore_index=True)\n",
    "print(\"Concatenated DataFrame:\\n\", concat)\n"
   ]
  },
  {
   "cell_type": "code",
   "execution_count": 22,
   "id": "90808680-2bad-4daf-b96d-87f94dc4c752",
   "metadata": {},
   "outputs": [
    {
     "name": "stdout",
     "output_type": "stream",
     "text": [
      "Merged DataFrame:\n",
      "    id    name  marks\n",
      "0   2  sanjay     80\n",
      "1   3    Jaya     85\n",
      "2   4  Chitra     90\n"
     ]
    }
   ],
   "source": [
    "merged = pd.merge(concat, df3, on='id', how='inner')\n",
    "print(\"Merged DataFrame:\\n\", merged)\n"
   ]
  },
  {
   "cell_type": "code",
   "execution_count": 28,
   "id": "2a1cd04d-2292-4e9c-9a31-2f6659cf2286",
   "metadata": {},
   "outputs": [
    {
     "data": {
      "text/html": [
       "<div>\n",
       "<style scoped>\n",
       "    .dataframe tbody tr th:only-of-type {\n",
       "        vertical-align: middle;\n",
       "    }\n",
       "\n",
       "    .dataframe tbody tr th {\n",
       "        vertical-align: top;\n",
       "    }\n",
       "\n",
       "    .dataframe thead th {\n",
       "        text-align: right;\n",
       "    }\n",
       "</style>\n",
       "<table border=\"1\" class=\"dataframe\">\n",
       "  <thead>\n",
       "    <tr style=\"text-align: right;\">\n",
       "      <th></th>\n",
       "      <th>id</th>\n",
       "      <th>name</th>\n",
       "      <th>marks</th>\n",
       "    </tr>\n",
       "  </thead>\n",
       "  <tbody>\n",
       "    <tr>\n",
       "      <th>0</th>\n",
       "      <td>2</td>\n",
       "      <td>sanjay</td>\n",
       "      <td>80</td>\n",
       "    </tr>\n",
       "  </tbody>\n",
       "</table>\n",
       "</div>"
      ],
      "text/plain": [
       "   id    name  marks\n",
       "0   2  sanjay     80"
      ]
     },
     "execution_count": 28,
     "metadata": {},
     "output_type": "execute_result"
    }
   ],
   "source": [
    "# Example merge by column\n",
    "pd.merge(df1, df3, on='id', how='inner')"
   ]
  },
  {
   "cell_type": "code",
   "execution_count": 26,
   "id": "421f4ad2-55e6-41b3-812c-b2ac928490e1",
   "metadata": {},
   "outputs": [
    {
     "data": {
      "text/html": [
       "<div>\n",
       "<style scoped>\n",
       "    .dataframe tbody tr th:only-of-type {\n",
       "        vertical-align: middle;\n",
       "    }\n",
       "\n",
       "    .dataframe tbody tr th {\n",
       "        vertical-align: top;\n",
       "    }\n",
       "\n",
       "    .dataframe thead th {\n",
       "        text-align: right;\n",
       "    }\n",
       "</style>\n",
       "<table border=\"1\" class=\"dataframe\">\n",
       "  <thead>\n",
       "    <tr style=\"text-align: right;\">\n",
       "      <th></th>\n",
       "      <th>name</th>\n",
       "      <th>marks</th>\n",
       "    </tr>\n",
       "    <tr>\n",
       "      <th>id</th>\n",
       "      <th></th>\n",
       "      <th></th>\n",
       "    </tr>\n",
       "  </thead>\n",
       "  <tbody>\n",
       "    <tr>\n",
       "      <th>1</th>\n",
       "      <td>Naman</td>\n",
       "      <td>NaN</td>\n",
       "    </tr>\n",
       "    <tr>\n",
       "      <th>2</th>\n",
       "      <td>sanjay</td>\n",
       "      <td>80.0</td>\n",
       "    </tr>\n",
       "  </tbody>\n",
       "</table>\n",
       "</div>"
      ],
      "text/plain": [
       "      name  marks\n",
       "id               \n",
       "1    Naman    NaN\n",
       "2   sanjay   80.0"
      ]
     },
     "execution_count": 26,
     "metadata": {},
     "output_type": "execute_result"
    }
   ],
   "source": [
    "# Example join by index\n",
    "df1.set_index('id').join(df3.set_index('id'))"
   ]
  },
  {
   "cell_type": "markdown",
   "id": "b4a16a1b-2097-4c01-a991-8de98139fdfe",
   "metadata": {},
   "source": [
    "# ---------DONE-------------------"
   ]
  }
 ],
 "metadata": {
  "kernelspec": {
   "display_name": "Python [conda env:base] *",
   "language": "python",
   "name": "conda-base-py"
  },
  "language_info": {
   "codemirror_mode": {
    "name": "ipython",
    "version": 3
   },
   "file_extension": ".py",
   "mimetype": "text/x-python",
   "name": "python",
   "nbconvert_exporter": "python",
   "pygments_lexer": "ipython3",
   "version": "3.12.7"
  }
 },
 "nbformat": 4,
 "nbformat_minor": 5
}
