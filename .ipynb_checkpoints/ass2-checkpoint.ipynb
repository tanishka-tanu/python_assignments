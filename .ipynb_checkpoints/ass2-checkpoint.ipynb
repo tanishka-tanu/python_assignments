{
 "cells": [
  {
   "cell_type": "markdown",
   "id": "ce342081-ef63-4dd3-9807-28d4b93f5afb",
   "metadata": {},
   "source": [
    "# Assignment 2"
   ]
  },
  {
   "cell_type": "raw",
   "id": "3f03c8e3-4f0f-4808-8a62-242157fdae42",
   "metadata": {},
   "source": [
    " 1 Input a number from user and find its factorial using for loop"
   ]
  },
  {
   "cell_type": "code",
   "execution_count": 2,
   "id": "0b2ba2c8-693b-408b-bb4a-23fa919047b0",
   "metadata": {},
   "outputs": [
    {
     "name": "stdin",
     "output_type": "stream",
     "text": [
      "enter any number:  5\n"
     ]
    },
    {
     "name": "stdout",
     "output_type": "stream",
     "text": [
      "factorial is:  120\n"
     ]
    }
   ],
   "source": [
    "n = int(input(\"enter any number: \"))\n",
    "f = 1\n",
    "for i in range(1,n+1):\n",
    "    f*=i\n",
    "\n",
    "print(\"factorial is: \",f)\n",
    "    "
   ]
  },
  {
   "cell_type": "raw",
   "id": "1b98dce4-7775-472e-8ced-a3c6089768f4",
   "metadata": {},
   "source": [
    "2 Create a billing program using list. Program should have options to \n",
    "  1. Create Bill\n",
    "  2. Display Item Price and total bill amount\n",
    "  3. Display Total\n",
    "  4. Exit"
   ]
  },
  {
   "cell_type": "code",
   "execution_count": 27,
   "id": "23ca7bed-04ad-4447-b493-a12fa59b70ef",
   "metadata": {},
   "outputs": [
    {
     "name": "stdout",
     "output_type": "stream",
     "text": [
      "1. Create Bill\n",
      "2. Display Item Price and total bill amount\n",
      "3. Display Total\n",
      "4. Exit\n"
     ]
    },
    {
     "name": "stdin",
     "output_type": "stream",
     "text": [
      "enter your choice from 1-4 1\n",
      "enter item name:  chocolate\n",
      "enter the price:  100\n"
     ]
    },
    {
     "name": "stdout",
     "output_type": "stream",
     "text": [
      "'chocolate' added to bill.\n",
      "1. Create Bill\n",
      "2. Display Item Price and total bill amount\n",
      "3. Display Total\n",
      "4. Exit\n"
     ]
    },
    {
     "name": "stdin",
     "output_type": "stream",
     "text": [
      "enter your choice from 1-4 1\n",
      "enter item name:  chole bhature\n",
      "enter the price:  80\n"
     ]
    },
    {
     "name": "stdout",
     "output_type": "stream",
     "text": [
      "'chole bhature' added to bill.\n",
      "1. Create Bill\n",
      "2. Display Item Price and total bill amount\n",
      "3. Display Total\n",
      "4. Exit\n"
     ]
    },
    {
     "name": "stdin",
     "output_type": "stream",
     "text": [
      "enter your choice from 1-4 1\n",
      "enter item name:  maggie\n",
      "enter the price:  40\n"
     ]
    },
    {
     "name": "stdout",
     "output_type": "stream",
     "text": [
      "'maggie' added to bill.\n",
      "1. Create Bill\n",
      "2. Display Item Price and total bill amount\n",
      "3. Display Total\n",
      "4. Exit\n"
     ]
    },
    {
     "name": "stdin",
     "output_type": "stream",
     "text": [
      "enter your choice from 1-4 1\n",
      "enter item name:  white sauce pasta\n",
      "enter the price:  120\n"
     ]
    },
    {
     "name": "stdout",
     "output_type": "stream",
     "text": [
      "'white sauce pasta' added to bill.\n",
      "1. Create Bill\n",
      "2. Display Item Price and total bill amount\n",
      "3. Display Total\n",
      "4. Exit\n"
     ]
    },
    {
     "name": "stdin",
     "output_type": "stream",
     "text": [
      "enter your choice from 1-4 1\n",
      "enter item name:  red velvet pastrie\n",
      "enter the price:  90\n"
     ]
    },
    {
     "name": "stdout",
     "output_type": "stream",
     "text": [
      "'red velvet pastrie' added to bill.\n",
      "1. Create Bill\n",
      "2. Display Item Price and total bill amount\n",
      "3. Display Total\n",
      "4. Exit\n"
     ]
    },
    {
     "name": "stdin",
     "output_type": "stream",
     "text": [
      "enter your choice from 1-4 2\n"
     ]
    },
    {
     "name": "stdout",
     "output_type": "stream",
     "text": [
      "\n",
      "Bill Details\n",
      "chocolate - rs100.0\n",
      "chole bhature - rs80.0\n",
      "maggie - rs40.0\n",
      "white sauce pasta - rs120.0\n",
      "red velvet pastrie - rs90.0\n",
      "Total Amount: rs 430.0\n",
      "1. Create Bill\n",
      "2. Display Item Price and total bill amount\n",
      "3. Display Total\n",
      "4. Exit\n"
     ]
    },
    {
     "name": "stdin",
     "output_type": "stream",
     "text": [
      "enter your choice from 1-4 3\n"
     ]
    },
    {
     "name": "stdout",
     "output_type": "stream",
     "text": [
      "Total Amount to Pay: rs 430.0\n",
      "1. Create Bill\n",
      "2. Display Item Price and total bill amount\n",
      "3. Display Total\n",
      "4. Exit\n"
     ]
    },
    {
     "name": "stdin",
     "output_type": "stream",
     "text": [
      "enter your choice from 1-4 4\n"
     ]
    },
    {
     "name": "stdout",
     "output_type": "stream",
     "text": [
      "Thank you for using the billing system!\n"
     ]
    }
   ],
   "source": [
    "prices = []\n",
    "items = []\n",
    "\n",
    "while True:\n",
    "    print(\"1. Create Bill\")\n",
    "    print(\"2. Display Item Price and total bill amount\")\n",
    "    print(\"3. Display Total\")\n",
    "    print(\"4. Exit\")\n",
    "    choice = input(\"enter your choice from 1-4\")\n",
    "    if choice == '1':\n",
    "        item = input(\"enter item name: \")\n",
    "        price = float(input(\"enter the price: \"))\n",
    "        items.append(item)\n",
    "        prices.append(price)\n",
    "        print(f\"'{item}' added to bill.\")\n",
    "    elif choice == '2':\n",
    "        if not items:\n",
    "            print('No items in bill')\n",
    "        else:\n",
    "            print(\"\\nBill Details\")\n",
    "            for i in range(len(items)):\n",
    "                print(f\"{items[i]} - rs{prices[i]}\")\n",
    "            print(\"Total Amount: rs\", sum(prices))\n",
    "\n",
    "    elif choice == '3':\n",
    "        print(\"Total Amount to Pay: rs\", sum(prices))\n",
    "\n",
    "    elif choice == '4':\n",
    "        print(\"Thank you for using the billing system!\")\n",
    "        break\n",
    "\n",
    "    else:\n",
    "        print(\"Invalid choice! Please enter between 1 and 4.\")\n",
    "            \n",
    "\n",
    "        \n",
    "    \n",
    "\n"
   ]
  },
  {
   "cell_type": "raw",
   "id": "8930636a-61ea-4219-aa95-72cb089d5929",
   "metadata": {},
   "source": [
    "3 Write a  Python program to find the smallest number in a list."
   ]
  },
  {
   "cell_type": "code",
   "execution_count": 15,
   "id": "e05220b1-7b1e-47b8-9219-64a333e7e5e4",
   "metadata": {},
   "outputs": [
    {
     "name": "stdout",
     "output_type": "stream",
     "text": [
      "smallest number in the list is :  9\n"
     ]
    }
   ],
   "source": [
    "lst = [34,22,90,78,56,45,89,12,9,87]\n",
    "length = len(lst)\n",
    "smallest = lst[0]\n",
    "for i in range(0,length):\n",
    "    if lst[i]<smallest:\n",
    "        smallest = lst[i]\n",
    "\n",
    "print(\"smallest number in the list is : \",smallest)"
   ]
  },
  {
   "cell_type": "raw",
   "id": "108c28aa-e984-4702-bc6e-a6daa5c74c82",
   "metadata": {},
   "source": [
    "Write a  Python program to find the second greatest and second smallest number in a list."
   ]
  },
  {
   "cell_type": "code",
   "execution_count": 15,
   "id": "bef34945-2aaa-46a0-abaa-c4d73a988d7e",
   "metadata": {},
   "outputs": [
    {
     "name": "stdout",
     "output_type": "stream",
     "text": [
      "[9, 12, 22, 34, 45, 56, 78, 87, 89, 90]\n",
      "second smallest no in list is: 12\n",
      "second largest no in list is: 89\n"
     ]
    }
   ],
   "source": [
    "lst = [34,22,90,78,56,45,89,12,9,87]\n",
    "lst.sort()\n",
    "print(lst)\n",
    "second_smallest = lst[1]\n",
    "print(\"second smallest no in list is:\" ,second_smallest)\n",
    "second_largest = lst[len(lst)-2]\n",
    "print(\"second largest no in list is:\" ,second_largest)\n"
   ]
  },
  {
   "cell_type": "markdown",
   "id": "fbe7dd02-e9be-4d5d-94d9-1ef3c7357437",
   "metadata": {},
   "source": [
    "# Dictionary"
   ]
  },
  {
   "cell_type": "code",
   "execution_count": 64,
   "id": "af867882-8b64-4a92-b015-6b3183eede9a",
   "metadata": {},
   "outputs": [
    {
     "name": "stdout",
     "output_type": "stream",
     "text": [
      "{1: 'python', 2: 'c++', 3: 'java', 4: {1: 'one', 2: 'two'}}\n",
      "<class 'dict'>\n",
      "python\n",
      "{1: 'one', 2: 'two'}\n",
      "two\n"
     ]
    }
   ],
   "source": [
    "d = {1:'python' , 2:'c++' , 3:'java' , 4:{1:'one' , 2:'two'}}\n",
    "print(d)\n",
    "print(type(d))\n",
    "print(d[1])\n",
    "print(d[4])\n",
    "print(d[4][2])"
   ]
  },
  {
   "cell_type": "code",
   "execution_count": 54,
   "id": "ff9babc2-261b-41e5-8f11-67dbdf47f192",
   "metadata": {},
   "outputs": [
    {
     "name": "stdout",
     "output_type": "stream",
     "text": [
      "{'name': 'tanu', 'class': 12}\n",
      "tanu\n"
     ]
    }
   ],
   "source": [
    "info = {'name':'tanu' , 'class':12}\n",
    "print(info)\n",
    "print(info['name'])"
   ]
  },
  {
   "cell_type": "raw",
   "id": "49ae7533-df20-4b0e-9822-dc36228e785b",
   "metadata": {},
   "source": [
    "# adding new element"
   ]
  },
  {
   "cell_type": "code",
   "execution_count": 94,
   "id": "9ec03f1f-84c1-4ff4-a261-451e8c15ca7e",
   "metadata": {},
   "outputs": [
    {
     "name": "stdout",
     "output_type": "stream",
     "text": [
      "{1: 'python', 2: 'c++', 3: 'java', 4: {1: 'one', 2: 'two'}, 5: 'SQL'}\n",
      "dict_items([(1, 'python'), (2, 'c++'), (3, 'java'), (4, {1: 'one', 2: 'two'}), (5, 'SQL')])\n",
      "dict_keys([1, 2, 3, 4, 5])\n",
      "dict_values(['python', 'c++', 'java', {1: 'one', 2: 'two'}, 'SQL'])\n",
      "{1: 'python', 2: 'c++', 3: 'java', 4: {1: 'one', 2: 'two'}, 5: 'SQL'}\n",
      "python\n"
     ]
    }
   ],
   "source": [
    "dic = {1:'python' , 2:'c++' , 3:'java' , 4:{1:'one' , 2:'two'}}\n",
    "dic[5] = 'SQL'\n",
    "dic2 = {}\n",
    "print(dic)\n",
    "print(dic.items())\n",
    "print(dic.keys())\n",
    "print(dic.values())\n",
    "dic2.update(dic)\n",
    "print(dic2)\n",
    "print(dic.get(1))\n",
    "\n",
    "\n"
   ]
  },
  {
   "cell_type": "raw",
   "id": "9f9c6b52-98ec-4eda-ba4a-5812a4b3a169",
   "metadata": {},
   "source": []
  },
  {
   "cell_type": "code",
   "execution_count": 98,
   "id": "c4a3021f-482b-4f6b-8a98-9e8b48b32b86",
   "metadata": {},
   "outputs": [
    {
     "name": "stdout",
     "output_type": "stream",
     "text": [
      "{'c': 3, 'd': 4, 'a': 1, 'b': 2}\n"
     ]
    }
   ],
   "source": [
    "dic1 = {'a':1,'b':2}\n",
    "dic2 = {'c':3 , 'd':4}\n",
    "dic2.update(dic1)\n",
    "print(dic2)"
   ]
  },
  {
   "cell_type": "raw",
   "id": "30563b9a-b225-4167-935f-d9f03cbfd823",
   "metadata": {},
   "source": [
    "tuple -- ordered and unchangeable , allow duplicate values , after creation,, tuple can't be changed\n",
    "tuple can be deleted using del keyword"
   ]
  },
  {
   "cell_type": "code",
   "execution_count": 102,
   "id": "88a0e97f-1b31-4063-a2b0-4014e071517c",
   "metadata": {},
   "outputs": [
    {
     "name": "stdout",
     "output_type": "stream",
     "text": [
      "(10, 20, 30, 40, 40, 40)\n",
      "<class 'tuple'>\n"
     ]
    }
   ],
   "source": [
    "t = (10,20,30,40,40,40)\n",
    "print(t)\n",
    "print(type(t))"
   ]
  },
  {
   "cell_type": "code",
   "execution_count": 114,
   "id": "6aeed785-c368-4440-b452-9394fee55078",
   "metadata": {},
   "outputs": [
    {
     "name": "stdout",
     "output_type": "stream",
     "text": [
      "0 1\n",
      "1 True\n",
      "2 hlo\n",
      "3 45\n",
      "4 89\n",
      "30\n"
     ]
    }
   ],
   "source": [
    "tu = (1,True,'hlo',45,89)\n",
    "l = len(tu)\n",
    "for i in range(l):\n",
    "    print(i,tu[i])\n",
    "\n",
    "print(t[2])"
   ]
  },
  {
   "cell_type": "code",
   "execution_count": 118,
   "id": "7e16bc8b-7a69-42de-927f-80c025f37a62",
   "metadata": {},
   "outputs": [
    {
     "name": "stdout",
     "output_type": "stream",
     "text": [
      "1\n",
      "True\n",
      "hlo\n",
      "45\n",
      "89\n"
     ]
    }
   ],
   "source": [
    "tu = (1,True,'hlo',45,89)\n",
    "l = len(tu)\n",
    "for i in tu:\n",
    "    print(i)"
   ]
  },
  {
   "cell_type": "code",
   "execution_count": 122,
   "id": "e4dd49be-61fc-4ab6-af58-6f33965c0477",
   "metadata": {},
   "outputs": [
    {
     "name": "stdout",
     "output_type": "stream",
     "text": [
      "(0, 1, 2, 3, 'a', 'b', True, False, None)\n"
     ]
    }
   ],
   "source": [
    "t1= (0,1,2,3)\n",
    "t2= ('a','b')\n",
    "t3= (True , False , None)\n",
    "print(t1+t2+t3)"
   ]
  },
  {
   "cell_type": "code",
   "execution_count": 126,
   "id": "e3467d15-3e5f-4ea6-b405-cecf556f0827",
   "metadata": {},
   "outputs": [
    {
     "name": "stdout",
     "output_type": "stream",
     "text": [
      "((0, 1, 2, 3), ('a', 'b'))\n"
     ]
    }
   ],
   "source": [
    "t1= (0,1,2,3)\n",
    "t2= ('a','b')\n",
    "t3 = (t1,t2)\n",
    "print(t3)"
   ]
  },
  {
   "cell_type": "code",
   "execution_count": 134,
   "id": "e90a638e-2d0c-4e95-a9e9-4051034e8880",
   "metadata": {},
   "outputs": [
    {
     "name": "stdout",
     "output_type": "stream",
     "text": [
      "('xyz', 'hlo', 'xyz', 'hlo', 'xyz', 'hlo')\n",
      "xyzxyzxyzxyz\n"
     ]
    }
   ],
   "source": [
    "t1 = ('xyz','hlo')*3\n",
    "print(t1)\n",
    "t2 = ('xyz')*4\n",
    "print(t2)"
   ]
  },
  {
   "cell_type": "code",
   "execution_count": 140,
   "id": "e652ee30-55d7-460b-a87f-f610fc3e56e4",
   "metadata": {},
   "outputs": [
    {
     "name": "stdout",
     "output_type": "stream",
     "text": [
      "(20, 4, 5, 6, 65, 4, 4)\n",
      "(4, 4, 65, 6, 5, 4, 20, 10)\n"
     ]
    }
   ],
   "source": [
    "t=(10,20,4,5,6,65,4,4)\n",
    "print(t[1:])\n",
    "print(t[::-1])\n"
   ]
  },
  {
   "cell_type": "code",
   "execution_count": 144,
   "id": "851f336a-571a-49ca-98a5-bc9e104f038d",
   "metadata": {},
   "outputs": [
    {
     "ename": "NameError",
     "evalue": "name 't' is not defined",
     "output_type": "error",
     "traceback": [
      "\u001b[1;31m---------------------------------------------------------------------------\u001b[0m",
      "\u001b[1;31mNameError\u001b[0m                                 Traceback (most recent call last)",
      "Cell \u001b[1;32mIn[144], line 3\u001b[0m\n\u001b[0;32m      1\u001b[0m t\u001b[38;5;241m=\u001b[39m(\u001b[38;5;241m10\u001b[39m,\u001b[38;5;241m20\u001b[39m,\u001b[38;5;241m4\u001b[39m,\u001b[38;5;241m5\u001b[39m,\u001b[38;5;241m6\u001b[39m,\u001b[38;5;241m65\u001b[39m,\u001b[38;5;241m4\u001b[39m,\u001b[38;5;241m4\u001b[39m)\n\u001b[0;32m      2\u001b[0m \u001b[38;5;28;01mdel\u001b[39;00m(t)\n\u001b[1;32m----> 3\u001b[0m \u001b[38;5;28mprint\u001b[39m(t)\n",
      "\u001b[1;31mNameError\u001b[0m: name 't' is not defined"
     ]
    }
   ],
   "source": [
    "t=(10,20,4,5,6,65,4,4)\n",
    "del(t)\n",
    "# whole tuple can be deleted using sel keyword & get name error if try to access it\n",
    "print(t)"
   ]
  },
  {
   "cell_type": "code",
   "execution_count": 148,
   "id": "6368d1d8-8782-43ed-ad78-6c85ad240f85",
   "metadata": {},
   "outputs": [
    {
     "name": "stdout",
     "output_type": "stream",
     "text": [
      "(10, 20, 30)\n",
      "<class 'tuple'>\n"
     ]
    }
   ],
   "source": [
    "l=[10,20,30]\n",
    "t=tuple(l)\n",
    "print(t)\n",
    "print(type(t))"
   ]
  },
  {
   "cell_type": "code",
   "execution_count": 156,
   "id": "a8cc2ef4-ecd9-4805-a7c0-61e486aecf78",
   "metadata": {},
   "outputs": [
    {
     "name": "stdout",
     "output_type": "stream",
     "text": [
      "4\n",
      "65\n",
      "3\n",
      "2\n",
      "118\n"
     ]
    }
   ],
   "source": [
    "t=(10,20,4,5,6,65,4,4)\n",
    "print(min(t))\n",
    "print(max(t))\n",
    "print(t.count(4))\n",
    "print(t.index(4))\n",
    "print(sum(t))\n"
   ]
  },
  {
   "cell_type": "markdown",
   "id": "2a35e808-1bac-4b11-8674-0a5d97a195b1",
   "metadata": {},
   "source": [
    "# Set"
   ]
  },
  {
   "cell_type": "raw",
   "id": "f0bad182-856a-463b-a713-383771c84f1a",
   "metadata": {},
   "source": [
    "items unchangeable but ve can remove and add items and unindexed .. no empty set\n",
    "duplicates arenot allowed\n",
    "True and 1 , False and 0 are considered as same"
   ]
  },
  {
   "cell_type": "code",
   "execution_count": 175,
   "id": "623fdb00-148f-4f7a-9387-eceac44032a3",
   "metadata": {},
   "outputs": [
    {
     "name": "stdout",
     "output_type": "stream",
     "text": [
      "{'c', 'e', 'mango', 'd', 'b', 'a'}\n"
     ]
    }
   ],
   "source": [
    "s={'a','b','c','d','e'}\n",
    "s.add('mango')\n",
    "print(s)"
   ]
  },
  {
   "cell_type": "code",
   "execution_count": 179,
   "id": "2d18aeb0-40fe-4d12-b53d-592c3b1fbd95",
   "metadata": {},
   "outputs": [
    {
     "name": "stdout",
     "output_type": "stream",
     "text": [
      "{'c', 'e', 'd', 40, 'b', 10, 'a', 20, 30}\n",
      "{'c', 'e', 'd', 40, 'b', 10, 'a', 20, 30}\n"
     ]
    }
   ],
   "source": [
    "s1={'a','b','c','d','e'}\n",
    "s2={10,20,30,40}\n",
    "#union\n",
    "s3 = s1.union(s2)\n",
    "print(s3)\n",
    "s4 = s1 | s2\n",
    "print(s4)"
   ]
  },
  {
   "cell_type": "code",
   "execution_count": 185,
   "id": "56651c68-8ed0-441d-80f2-eb1c0c46352d",
   "metadata": {},
   "outputs": [
    {
     "name": "stdout",
     "output_type": "stream",
     "text": [
      "{10, 20, 'd'}\n",
      "{10, 20, 'd'}\n"
     ]
    }
   ],
   "source": [
    "s1={'a','b','c','d','e',10,20}\n",
    "s2={10,20,30,40,'d'}\n",
    "s3 = s1.intersection(s2)\n",
    "print(s3)\n",
    "s4 = s1 & s2\n",
    "print(s4)"
   ]
  },
  {
   "cell_type": "code",
   "execution_count": 189,
   "id": "c8f84256-660e-40f4-a55c-f855be533682",
   "metadata": {},
   "outputs": [
    {
     "name": "stdout",
     "output_type": "stream",
     "text": [
      "{'a', 'b', 'c', 'e'}\n",
      "{'a', 'b', 'c', 'e'}\n"
     ]
    }
   ],
   "source": [
    "s1={'a','b','c','d','e',10,20}\n",
    "s2={10,20,30,40,'d'}\n",
    "s3 = s1.difference(s2)\n",
    "print(s3)\n",
    "s4 = s1-s2\n",
    "print(s4)"
   ]
  },
  {
   "cell_type": "code",
   "execution_count": 191,
   "id": "e7c216d1-558b-4b7a-86f2-ad2d6fe8044a",
   "metadata": {},
   "outputs": [
    {
     "name": "stdout",
     "output_type": "stream",
     "text": [
      "set()\n"
     ]
    }
   ],
   "source": [
    "s2={10,20,30,40,'d'}\n",
    "s2.clear()\n",
    "print(s2)"
   ]
  },
  {
   "cell_type": "markdown",
   "id": "455f3305-a624-4896-9e0f-3ba696bb1efd",
   "metadata": {},
   "source": [
    "# User-defined Functions "
   ]
  },
  {
   "cell_type": "code",
   "execution_count": 198,
   "id": "fb039921-3228-46e4-8a8e-47f089766ac2",
   "metadata": {},
   "outputs": [
    {
     "name": "stdout",
     "output_type": "stream",
     "text": [
      "Hello Python\n"
     ]
    }
   ],
   "source": [
    "def my_fun(name):\n",
    "    print('Hello', name)\n",
    "\n",
    "\n",
    "my_fun('Python')"
   ]
  },
  {
   "cell_type": "code",
   "execution_count": 222,
   "id": "df2ba881-2821-4149-a5a3-b64e99201483",
   "metadata": {},
   "outputs": [
    {
     "name": "stdout",
     "output_type": "stream",
     "text": [
      "68\n"
     ]
    }
   ],
   "source": [
    "def add(a=0,b=0):\n",
    "    res = a+b\n",
    "    return res\n",
    "s1 = add(12,56)\n",
    "print(s1)"
   ]
  },
  {
   "cell_type": "code",
   "execution_count": 249,
   "id": "dfc1f517-1bb2-474a-9198-26c096945d57",
   "metadata": {},
   "outputs": [
    {
     "name": "stdout",
     "output_type": "stream",
     "text": [
      "last city is: b\n"
     ]
    }
   ],
   "source": [
    "# if no of arguments are unknown then use * symbol\n",
    "def fun(*city):\n",
    "    print(\"last city is:\",city[1])\n",
    "\n",
    "fun('a','b','c','s')"
   ]
  },
  {
   "cell_type": "code",
   "execution_count": 245,
   "id": "1086761c-21d8-4fbf-a67f-cd2dbeb79227",
   "metadata": {},
   "outputs": [
    {
     "name": "stdout",
     "output_type": "stream",
     "text": [
      "the first city is:alwar\n"
     ]
    }
   ],
   "source": [
    "def func(city3,city2,city1):\n",
    "        print(\"the first city is:\"+city1)\n",
    "\n",
    "func('jaipur','kota','alwar')"
   ]
  },
  {
   "cell_type": "code",
   "execution_count": 257,
   "id": "9bb89239-21ec-4549-bd03-928fe7589466",
   "metadata": {},
   "outputs": [
    {
     "name": "stdout",
     "output_type": "stream",
     "text": [
      " city last name is:b\n"
     ]
    }
   ],
   "source": [
    "def fun(**city):\n",
    "    print(\" city last name is:\"+city['lname'])\n",
    "\n",
    "fun(fname = 'a',lname ='b',kname='c')"
   ]
  },
  {
   "cell_type": "code",
   "execution_count": 261,
   "id": "f5c1a343-d1f7-40f3-973c-645bfd95ebfc",
   "metadata": {},
   "outputs": [],
   "source": [
    "f = open('new.txt','w')\n",
    "f.write('this is  first line \\n')\n",
    "f.write('hlo.. i am learning python')\n",
    "f.close()"
   ]
  },
  {
   "cell_type": "code",
   "execution_count": 263,
   "id": "3ac56592-d446-400f-9c98-01ce999ba05a",
   "metadata": {},
   "outputs": [
    {
     "name": "stdout",
     "output_type": "stream",
     "text": [
      "this is  first line \n",
      "\n",
      "hlo.. i am learning python\n"
     ]
    }
   ],
   "source": [
    "f = open('new.txt','r')\n",
    "for x in f:\n",
    "    print(x)"
   ]
  },
  {
   "cell_type": "code",
   "execution_count": 267,
   "id": "ac5ca463-7ff8-4e4f-9a38-c70c9a4ec692",
   "metadata": {},
   "outputs": [
    {
     "name": "stdout",
     "output_type": "stream",
     "text": [
      "this is  first line \n",
      "hlo.. i am learning python\n"
     ]
    }
   ],
   "source": [
    "f = open('new.txt','r')\n",
    "print(f.read())"
   ]
  },
  {
   "cell_type": "code",
   "execution_count": 269,
   "id": "ee7d3261-57b8-45a6-bb4e-97bdd89f2366",
   "metadata": {},
   "outputs": [
    {
     "name": "stdout",
     "output_type": "stream",
     "text": [
      "this is  first line \n",
      "hlo.. i am learning python\n"
     ]
    }
   ],
   "source": [
    "with open(\"new.txt\") as f:\n",
    "    data = f.read()\n",
    "\n",
    "print(data)"
   ]
  },
  {
   "cell_type": "code",
   "execution_count": 273,
   "id": "5f337e19-5cec-44f3-a1b3-4a8ad6e37684",
   "metadata": {},
   "outputs": [],
   "source": [
    "f = open('new.txt','a')\n",
    "f.write('this is  append\\n')\n",
    "f.write('hlo performing append functions')\n",
    "f.close()"
   ]
  },
  {
   "cell_type": "code",
   "execution_count": null,
   "id": "fa29c084-3b68-431a-ac7f-70370419e72f",
   "metadata": {},
   "outputs": [],
   "source": []
  }
 ],
 "metadata": {
  "kernelspec": {
   "display_name": "Python [conda env:base] *",
   "language": "python",
   "name": "conda-base-py"
  },
  "language_info": {
   "codemirror_mode": {
    "name": "ipython",
    "version": 3
   },
   "file_extension": ".py",
   "mimetype": "text/x-python",
   "name": "python",
   "nbconvert_exporter": "python",
   "pygments_lexer": "ipython3",
   "version": "3.12.7"
  }
 },
 "nbformat": 4,
 "nbformat_minor": 5
}
