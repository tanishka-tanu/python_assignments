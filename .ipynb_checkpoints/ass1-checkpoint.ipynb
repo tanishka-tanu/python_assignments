{
 "cells": [
  {
   "cell_type": "markdown",
   "id": "ec6a3e38-ee43-4452-8536-d2045dca543b",
   "metadata": {},
   "source": [
    "# Assignment 1"
   ]
  },
  {
   "cell_type": "raw",
   "id": "2c293441-77d4-414a-90b5-fa788cb26c9c",
   "metadata": {},
   "source": [
    "# 1) Write a python program that takes in a student name, class. It should also take in five subject marks of the students and find the total mark and percentage. Display a result in such a way that their name, class,  and percentage are printed.\n"
   ]
  },
  {
   "cell_type": "code",
   "execution_count": 50,
   "id": "44af39a7-c841-4ab5-87ef-5d960f5ec854",
   "metadata": {},
   "outputs": [
    {
     "name": "stdin",
     "output_type": "stream",
     "text": [
      "Enter your name:  tanu\n",
      "Enter your class:  8\n",
      "Enter marks for Maths:  78\n",
      "Enter marks for Social Studies (SST):  98\n",
      "Enter marks for Science:  89\n",
      "Enter marks for Hindi:  78\n",
      "Enter marks for English:  90\n"
     ]
    },
    {
     "name": "stdout",
     "output_type": "stream",
     "text": [
      "\n",
      "-------- Student Result --------\n",
      "Name        : tanu\n",
      "Class       : 8\n",
      "Total Marks : 433 \n",
      "Percentage  : 86.60%\n",
      "--------------------------------\n",
      "A\n"
     ]
    }
   ],
   "source": [
    "# Taking user input\n",
    "name = input(\"Enter your name: \")\n",
    "student_class = input(\"Enter your class: \")\n",
    "\n",
    "# Taking subject marks\n",
    "maths = int(input(\"Enter marks for Maths: \"))\n",
    "sst = int(input(\"Enter marks for Social Studies (SST): \"))\n",
    "science = int(input(\"Enter marks for Science: \"))\n",
    "hindi = int(input(\"Enter marks for Hindi: \"))\n",
    "english = int(input(\"Enter marks for English: \"))\n",
    "\n",
    "# Calculations\n",
    "total_marks = maths + sst + science + hindi + english\n",
    "per = (total_marks / 500) * 100\n",
    "\n",
    "# Displaying result nicely\n",
    "print(\"\\n-------- Student Result --------\")\n",
    "print(f\"Name        : {name}\")\n",
    "print(f\"Class       : {student_class}\")\n",
    "print(f\"Total Marks : {total_marks} \")\n",
    "print(f\"Percentage  : {per:.2f}%\")\n",
    "print(\"--------------------------------\")\n",
    "\n",
    "\n",
    "if per>60:\n",
    "    print('A')\n",
    "elif per>50 and per<=60:\n",
    "    print('B')\n",
    "elif per>40 and per<=50:\n",
    "    print('C')\n",
    "elif per>33 and per<=40:\n",
    "    print('D')\n",
    "else:\n",
    "    print('Fail')\n"
   ]
  },
  {
   "cell_type": "raw",
   "id": "ce34210f-0343-4ecb-9232-a1b91273b1a6",
   "metadata": {},
   "source": [
    "# 2) Input 2 strings concatinate them and store in another variable. then perform generally used string methods on it like"
   ]
  },
  {
   "cell_type": "code",
   "execution_count": 54,
   "id": "92877f2f-1fc8-4b96-9ac1-207c9e2ab1a4",
   "metadata": {},
   "outputs": [
    {
     "name": "stdout",
     "output_type": "stream",
     "text": [
      "String after concatenation is :   Hello Python \n",
      " HELLO PYTHON \n",
      " hello python \n",
      " Hello Python \n",
      " hello python \n",
      "Hello Python\n",
      " Hii Python \n",
      "5\n",
      "2\n",
      "14\n",
      "False\n",
      "True\n",
      "['Hello', 'Python']\n",
      " @H@e@l@l@o@ @P@y@t@h@o@n@ \n"
     ]
    }
   ],
   "source": [
    "str1 = \" Hello\"\n",
    "str2 = \"Python \"\n",
    "concat = str1+ \" \" +str2\n",
    "print(\"String after concatenation is : \" , concat)\n",
    "\n",
    "# upper\n",
    "print(concat.upper())\n",
    "#lower\n",
    "print(concat.lower())\n",
    "#title\n",
    "print(concat.title())\n",
    "#capitalize\n",
    "print(concat.capitalize())\n",
    "#strip\n",
    "print(concat.strip())\n",
    "#replace\n",
    "print(concat.replace(\"Hello\" , \"Hii\"))\n",
    "#find\n",
    "print(concat.find('o'))\n",
    "#count\n",
    "print(concat.count('l'))\n",
    "#length - len()\n",
    "print(len(concat))\n",
    "#startswith\n",
    "print(concat.startswith('Hello'))\n",
    "#endswith\n",
    "print(concat.endswith(' '))\n",
    "#split\n",
    "print(concat.split())\n",
    "#join\n",
    "print(\"@\".join(concat))\n"
   ]
  }
 ],
 "metadata": {
  "kernelspec": {
   "display_name": "Python [conda env:base] *",
   "language": "python",
   "name": "conda-base-py"
  },
  "language_info": {
   "codemirror_mode": {
    "name": "ipython",
    "version": 3
   },
   "file_extension": ".py",
   "mimetype": "text/x-python",
   "name": "python",
   "nbconvert_exporter": "python",
   "pygments_lexer": "ipython3",
   "version": "3.12.7"
  }
 },
 "nbformat": 4,
 "nbformat_minor": 5
}
