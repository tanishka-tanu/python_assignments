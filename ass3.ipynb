{
 "cells": [
  {
   "cell_type": "raw",
   "id": "a3450e36-8dcd-40f0-bab2-904abb05d690",
   "metadata": {},
   "source": [
    "1. Write a function for basic math operations like add multiply substract divide and use this in your program, take 2 number input from user."
   ]
  },
  {
   "cell_type": "code",
   "execution_count": 5,
   "id": "7d26f157-192b-4d52-8623-4a337f7215a4",
   "metadata": {},
   "outputs": [
    {
     "name": "stdin",
     "output_type": "stream",
     "text": [
      "Enter first number:  3\n",
      "Enter second number:  6\n",
      "enter the operation to be performed .. (+,-,*,/) +\n"
     ]
    },
    {
     "name": "stdout",
     "output_type": "stream",
     "text": [
      "Addition is: 9\n"
     ]
    }
   ],
   "source": [
    "def calculator(a,b,op):\n",
    "    if op == '+':\n",
    "        print(\"Addition is:\",a+b)\n",
    "    elif op == '-':\n",
    "        print(\"Subtraction is:\",a-b)\n",
    "    elif op == '*':\n",
    "        print(\"Multiplication is:\",a*b)\n",
    "    elif op == '/':\n",
    "        print(\"Division is:\",a/b)\n",
    "\n",
    "a = int(input(\"Enter first number: \"))\n",
    "b = int(input(\"Enter second number: \"))\n",
    "op = input(\"enter the operation to be performed .. (+,-,*,/)\")\n",
    "calculator(a,b,op)\n",
    "        "
   ]
  },
  {
   "cell_type": "raw",
   "id": "ae606872-4273-44b3-a5a1-310fa673e455",
   "metadata": {},
   "source": [
    "2. Write a program to check Palindrome Number"
   ]
  },
  {
   "cell_type": "code",
   "execution_count": 1,
   "id": "5723d1c3-b95b-4430-af82-da6b8a8ea11d",
   "metadata": {},
   "outputs": [
    {
     "name": "stdin",
     "output_type": "stream",
     "text": [
      "enter the number: 12321\n"
     ]
    },
    {
     "name": "stdout",
     "output_type": "stream",
     "text": [
      "Number after reverse is:  12321\n",
      "Given number is palindrome\n"
     ]
    }
   ],
   "source": [
    "a = int(input(\"enter the number:\"))\n",
    "n=a\n",
    "rev = 0\n",
    "while n!=0:\n",
    "    k = n % 10\n",
    "    rev = rev * 10 + k\n",
    "    n = n // 10\n",
    "print(\"Number after reverse is: \",rev)\n",
    "\n",
    "# Checking if palindrome or not\n",
    "if rev == a:\n",
    "    print(\"Given number is palindrome\")\n",
    "\n",
    "else:\n",
    "    print(\"Given number is not palindrome\")\n",
    "\n",
    "    "
   ]
  },
  {
   "cell_type": "markdown",
   "id": "3afa35d0-a061-4178-8e04-b15958fea68a",
   "metadata": {},
   "source": [
    "# Practise\n",
    "\tDictionary\n",
    "\tTuple\n",
    "\tSet"
   ]
  },
  {
   "cell_type": "code",
   "execution_count": 56,
   "id": "f02c192f-3ebd-47c4-ac9b-4d83799a4a0b",
   "metadata": {},
   "outputs": [
    {
     "name": "stdout",
     "output_type": "stream",
     "text": [
      "{1: 'python', 2: 'c++', 3: 'java', 4: {1: 'one', 2: 'two'}}\n",
      "<class 'dict'>\n",
      "python\n",
      "{1: 'one', 2: 'two'}\n",
      "two\n"
     ]
    }
   ],
   "source": [
    "d = {1:'python' , 2:'c++' , 3:'java' , 4:{1:'one' , 2:'two'}}\n",
    "print(d)\n",
    "print(type(d))\n",
    "print(d[1])\n",
    "print(d[4])\n",
    "print(d[4][2])"
   ]
  },
  {
   "cell_type": "code",
   "execution_count": 58,
   "id": "90efc023-9314-438b-a076-573e31be1f66",
   "metadata": {},
   "outputs": [
    {
     "name": "stdout",
     "output_type": "stream",
     "text": [
      "{1: 'python', 2: 'c++', 3: 'java', 4: {1: 'one', 2: 'two'}, 5: 'SQL'}\n",
      "dict_items([(1, 'python'), (2, 'c++'), (3, 'java'), (4, {1: 'one', 2: 'two'}), (5, 'SQL')])\n",
      "dict_keys([1, 2, 3, 4, 5])\n",
      "dict_values(['python', 'c++', 'java', {1: 'one', 2: 'two'}, 'SQL'])\n",
      "{1: 'python', 2: 'c++', 3: 'java', 4: {1: 'one', 2: 'two'}, 5: 'SQL'}\n",
      "python\n"
     ]
    }
   ],
   "source": [
    "dic = {1:'python' , 2:'c++' , 3:'java' , 4:{1:'one' , 2:'two'}}\n",
    "dic[5] = 'SQL'\n",
    "dic2 = {}\n",
    "print(dic)\n",
    "print(dic.items())\n",
    "print(dic.keys())\n",
    "print(dic.values())\n",
    "dic2.update(dic)\n",
    "print(dic2)\n",
    "print(dic.get(1))"
   ]
  },
  {
   "cell_type": "code",
   "execution_count": 60,
   "id": "a58f10b5-09e9-4de7-a6fa-26acad6383aa",
   "metadata": {},
   "outputs": [
    {
     "name": "stdout",
     "output_type": "stream",
     "text": [
      "{'c': 3, 'd': 4, 'a': 1, 'b': 2}\n"
     ]
    }
   ],
   "source": [
    "dic1 = {'a':1,'b':2}\n",
    "dic2 = {'c':3 , 'd':4}\n",
    "dic2.update(dic1)\n",
    "print(dic2)"
   ]
  },
  {
   "cell_type": "code",
   "execution_count": 62,
   "id": "1451f02b-a20d-4521-846b-f9f5d6acf266",
   "metadata": {},
   "outputs": [
    {
     "name": "stdout",
     "output_type": "stream",
     "text": [
      "(10, 20, 30, 40, 40, 40)\n",
      "<class 'tuple'>\n"
     ]
    }
   ],
   "source": [
    "t = (10,20,30,40,40,40)\n",
    "print(t)\n",
    "print(type(t))"
   ]
  },
  {
   "cell_type": "code",
   "execution_count": 64,
   "id": "5c60828d-3d84-4847-9ade-1aca13c03fb7",
   "metadata": {},
   "outputs": [
    {
     "name": "stdout",
     "output_type": "stream",
     "text": [
      "1\n",
      "True\n",
      "hlo\n",
      "45\n",
      "89\n"
     ]
    }
   ],
   "source": [
    "tu = (1,True,'hlo',45,89)\n",
    "l = len(tu)\n",
    "for i in tu:\n",
    "    print(i)"
   ]
  },
  {
   "cell_type": "code",
   "execution_count": 66,
   "id": "6c2c4b9a-4b82-4e94-bda6-d0665651030b",
   "metadata": {},
   "outputs": [
    {
     "name": "stdout",
     "output_type": "stream",
     "text": [
      "(20, 4, 5, 6, 65, 4, 4)\n",
      "(4, 4, 65, 6, 5, 4, 20, 10)\n"
     ]
    }
   ],
   "source": [
    "t=(10,20,4,5,6,65,4,4)\n",
    "print(t[1:])\n",
    "print(t[::-1])"
   ]
  },
  {
   "cell_type": "code",
   "execution_count": 68,
   "id": "919575e6-c416-4c66-9a77-74609cb3ef46",
   "metadata": {},
   "outputs": [
    {
     "name": "stdout",
     "output_type": "stream",
     "text": [
      "(10, 20, 30)\n",
      "<class 'tuple'>\n"
     ]
    }
   ],
   "source": [
    "l=[10,20,30]\n",
    "t=tuple(l)\n",
    "print(t)\n",
    "print(type(t))"
   ]
  },
  {
   "cell_type": "code",
   "execution_count": 70,
   "id": "0f77883b-2f87-489f-a609-f468de536cb1",
   "metadata": {},
   "outputs": [
    {
     "name": "stdout",
     "output_type": "stream",
     "text": [
      "{'e', 40, 10, 'a', 20, 'd', 'b', 30, 'c'}\n",
      "{'e', 40, 10, 'a', 20, 'd', 'b', 30, 'c'}\n"
     ]
    }
   ],
   "source": [
    "s1={'a','b','c','d','e'}\n",
    "s2={10,20,30,40}\n",
    "#union\n",
    "s3 = s1.union(s2)\n",
    "print(s3)\n",
    "s4 = s1 | s2\n",
    "print(s4)"
   ]
  },
  {
   "cell_type": "code",
   "execution_count": 72,
   "id": "f682a47a-0eb7-4400-abfb-06b9b51ea23f",
   "metadata": {},
   "outputs": [
    {
     "name": "stdout",
     "output_type": "stream",
     "text": [
      "{10, 20, 'd'}\n",
      "{10, 20, 'd'}\n"
     ]
    }
   ],
   "source": [
    "s1={'a','b','c','d','e',10,20}\n",
    "s2={10,20,30,40,'d'}\n",
    "s3 = s1.intersection(s2)\n",
    "print(s3)\n",
    "s4 = s1 & s2\n",
    "print(s4)"
   ]
  },
  {
   "cell_type": "code",
   "execution_count": 74,
   "id": "fb0fa50d-b67e-4c8d-b460-67abc4fb39f7",
   "metadata": {},
   "outputs": [
    {
     "name": "stdout",
     "output_type": "stream",
     "text": [
      "{'b', 'e', 'a', 'c'}\n",
      "{'b', 'e', 'a', 'c'}\n"
     ]
    }
   ],
   "source": [
    "s1={'a','b','c','d','e',10,20}\n",
    "s2={10,20,30,40,'d'}\n",
    "s3 = s1.difference(s2)\n",
    "print(s3)\n",
    "s4 = s1-s2\n",
    "print(s4)"
   ]
  },
  {
   "cell_type": "code",
   "execution_count": 76,
   "id": "99906ac2-a74c-410d-8630-707707c99874",
   "metadata": {},
   "outputs": [
    {
     "name": "stdout",
     "output_type": "stream",
     "text": [
      "set()\n"
     ]
    }
   ],
   "source": [
    "s2={10,20,30,40,'d'}\n",
    "s2.clear()\n",
    "print(s2)"
   ]
  },
  {
   "cell_type": "code",
   "execution_count": null,
   "id": "ef6abe86-706b-481e-8236-6f23e1e369ba",
   "metadata": {},
   "outputs": [],
   "source": []
  }
 ],
 "metadata": {
  "kernelspec": {
   "display_name": "Python [conda env:base] *",
   "language": "python",
   "name": "conda-base-py"
  },
  "language_info": {
   "codemirror_mode": {
    "name": "ipython",
    "version": 3
   },
   "file_extension": ".py",
   "mimetype": "text/x-python",
   "name": "python",
   "nbconvert_exporter": "python",
   "pygments_lexer": "ipython3",
   "version": "3.12.7"
  }
 },
 "nbformat": 4,
 "nbformat_minor": 5
}
