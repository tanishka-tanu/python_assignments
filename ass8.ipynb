{
 "cells": [
  {
   "cell_type": "markdown",
   "id": "b0f91686-7b54-4cc5-829f-1f68db8a26ee",
   "metadata": {},
   "source": [
    "# Assignment 8"
   ]
  },
  {
   "cell_type": "raw",
   "id": "5757e26d-d0ad-4997-bf10-a0ed319e76f8",
   "metadata": {},
   "source": [
    "Q1. Create a numpy array with random values - (4x2) empty and a full numpy array\n",
    "                                            - (3x5) array filled with all zeros\n",
    "                                            - (4x3x2) array filled with all ones"
   ]
  },
  {
   "cell_type": "code",
   "execution_count": 17,
   "id": "af144467-cbf0-423c-88da-108a45433c2b",
   "metadata": {},
   "outputs": [
    {
     "name": "stdout",
     "output_type": "stream",
     "text": [
      "[[0.60436448 0.53876218]\n",
      " [0.72833009 0.53703768]\n",
      " [0.14391081 0.55566363]\n",
      " [0.80008465 0.27112378]]\n",
      "\n",
      "\n",
      "[[5 5]\n",
      " [5 5]\n",
      " [5 5]\n",
      " [5 5]]\n"
     ]
    }
   ],
   "source": [
    "import numpy as np\n",
    "import random\n",
    "a = np.random.rand(4,2)\n",
    "b = np.full((4,2),5)\n",
    "print(a)\n",
    "print('\\n')\n",
    "print(b)"
   ]
  },
  {
   "cell_type": "code",
   "execution_count": 33,
   "id": "a448ecc3-5149-4120-a021-6029f035bb49",
   "metadata": {},
   "outputs": [
    {
     "name": "stdout",
     "output_type": "stream",
     "text": [
      "[[0. 0. 0. 0. 0.]\n",
      " [0. 0. 0. 0. 0.]\n",
      " [0. 0. 0. 0. 0.]]\n",
      "float64\n"
     ]
    }
   ],
   "source": [
    "import numpy as np\n",
    "a = np.zeros((3,5))\n",
    "print(a)\n",
    "print(a.dtype)"
   ]
  },
  {
   "cell_type": "code",
   "execution_count": 31,
   "id": "e020e776-b478-4fc9-a6d0-d9426a0055dc",
   "metadata": {},
   "outputs": [
    {
     "name": "stdout",
     "output_type": "stream",
     "text": [
      "[[[1. 1.]\n",
      "  [1. 1.]\n",
      "  [1. 1.]]\n",
      "\n",
      " [[1. 1.]\n",
      "  [1. 1.]\n",
      "  [1. 1.]]\n",
      "\n",
      " [[1. 1.]\n",
      "  [1. 1.]\n",
      "  [1. 1.]]\n",
      "\n",
      " [[1. 1.]\n",
      "  [1. 1.]\n",
      "  [1. 1.]]]\n",
      "float64\n"
     ]
    }
   ],
   "source": [
    "import numpy as np\n",
    "a = np.ones(((4,3,2)))\n",
    "print(a)\n",
    "print(a.dtype)"
   ]
  },
  {
   "cell_type": "markdown",
   "id": "686af554-2960-42d2-914e-3a9f3185301b",
   "metadata": {},
   "source": [
    "Q2. write a numpy program to create a 3x3 2D matrix with values ranging from 2 to 10."
   ]
  },
  {
   "cell_type": "code",
   "execution_count": 37,
   "id": "3a5d5c4f-7915-48b0-ab16-24d2b3688a3d",
   "metadata": {},
   "outputs": [
    {
     "name": "stdout",
     "output_type": "stream",
     "text": [
      "3x3 Matrix with values from 2 to 10:\n",
      "[[ 2  3  4]\n",
      " [ 5  6  7]\n",
      " [ 8  9 10]]\n"
     ]
    }
   ],
   "source": [
    "import numpy as np\n",
    "a = np.arange(2, 11).reshape(3, 3)\n",
    "print(\"3x3 Matrix with values from 2 to 10:\")\n",
    "print(a)"
   ]
  },
  {
   "cell_type": "raw",
   "id": "25ac5c5b-d471-4305-bd42-2b85419499bb",
   "metadata": {},
   "source": [
    "Q3. write a numpy program to create a null vector of size 10 and update the 6th value to 11."
   ]
  },
  {
   "cell_type": "code",
   "execution_count": 43,
   "id": "89d25ca9-a076-46e6-9520-25562e4e5d2b",
   "metadata": {},
   "outputs": [
    {
     "name": "stdout",
     "output_type": "stream",
     "text": [
      "before updation: \n",
      " [0. 0. 0. 0. 0. 0. 0. 0. 0. 0.]\n",
      "after updation: \n",
      " [ 0.  0.  0.  0.  0. 11.  0.  0.  0.  0.]\n"
     ]
    }
   ],
   "source": [
    "import pandas as pd\n",
    "vec = np.zeros(10)\n",
    "print(\"before updation: \\n\",vec)\n",
    "# Update the 6th value (index 5) to 11\n",
    "vec[5] = 11\n",
    "print(\"after updation: \\n\",vec)"
   ]
  },
  {
   "cell_type": "raw",
   "id": "5c5275df-e9ea-48bd-b7d8-48ebee7ec63b",
   "metadata": {},
   "source": [
    "Q4. Write a numpy program to reverse an array(the first element becomes the last)"
   ]
  },
  {
   "cell_type": "code",
   "execution_count": 45,
   "id": "066c09ef-c826-4f96-bf8f-ffd126c13a72",
   "metadata": {},
   "outputs": [
    {
     "name": "stdout",
     "output_type": "stream",
     "text": [
      "[3 7 2 6 4 5]\n",
      "reverse:\n",
      " [5 4 6 2 7 3]\n"
     ]
    }
   ],
   "source": [
    "# reversing with the help of slicing\n",
    "a = np.array([3,7,2,6,4,5])\n",
    "print(a)\n",
    "print(\"reverse:\\n\",a[::-1])"
   ]
  },
  {
   "cell_type": "code",
   "execution_count": 53,
   "id": "06d3534a-afe1-4845-86f7-1ab4bd3cd735",
   "metadata": {},
   "outputs": [
    {
     "name": "stdout",
     "output_type": "stream",
     "text": [
      "Original array: [1 2 3 4 5]\n",
      "Reversed array: [5 4 3 2 1]\n"
     ]
    }
   ],
   "source": [
    "# using another array \n",
    "import numpy as np\n",
    "\n",
    "array = np.array([1, 2, 3, 4, 5])\n",
    "# create an empty array with same shape\n",
    "reversed_array = np.empty_like(array)  \n",
    "\n",
    "n = len(array)\n",
    "for i in range(n):\n",
    "    reversed_array[i] = array[n - 1 - i]\n",
    "\n",
    "print(\"Original array:\", array)\n",
    "print(\"Reversed array:\", reversed_array)\n"
   ]
  },
  {
   "cell_type": "raw",
   "id": "a2bdeabf-f4f4-45e8-8ae6-49b811062082",
   "metadata": {},
   "source": [
    "Q5. write a numpy program to convert an array to a floating type"
   ]
  },
  {
   "cell_type": "code",
   "execution_count": 57,
   "id": "6fc3ece7-5c03-4c60-b79f-8565883afe23",
   "metadata": {},
   "outputs": [
    {
     "name": "stdout",
     "output_type": "stream",
     "text": [
      "[3. 7. 2. 6. 4. 5.]\n"
     ]
    }
   ],
   "source": [
    "# reversing with the help of slicing\n",
    "a = np.array([3,7,2,6,4,5] , dtype = 'float')\n",
    "print(a)\n"
   ]
  },
  {
   "cell_type": "code",
   "execution_count": 59,
   "id": "fbad70d0-f6f0-4c93-8001-41cd7bfec082",
   "metadata": {},
   "outputs": [
    {
     "name": "stdout",
     "output_type": "stream",
     "text": [
      "Original array: [1 2 3 4 5]\n",
      "Data type of original array: int32\n",
      "Converted to float array: [1. 2. 3. 4. 5.]\n",
      "Data type of float array: float64\n"
     ]
    }
   ],
   "source": [
    "import numpy as np\n",
    "arr = np.array([1, 2, 3, 4, 5])\n",
    "float_arr = array.astype(float)\n",
    "\n",
    "print(\"Original array:\", arr)\n",
    "print(\"Data type of original array:\", arr.dtype)\n",
    "print(\"Converted to float array:\", float_arr)\n",
    "print(\"Data type of float array:\", float_arr.dtype)\n"
   ]
  },
  {
   "cell_type": "markdown",
   "id": "7b964f87-d9c4-4541-8bcd-d848fe9bde32",
   "metadata": {},
   "source": [
    "# --------------------------DONE-----------------------------------"
   ]
  }
 ],
 "metadata": {
  "kernelspec": {
   "display_name": "Python [conda env:base] *",
   "language": "python",
   "name": "conda-base-py"
  },
  "language_info": {
   "codemirror_mode": {
    "name": "ipython",
    "version": 3
   },
   "file_extension": ".py",
   "mimetype": "text/x-python",
   "name": "python",
   "nbconvert_exporter": "python",
   "pygments_lexer": "ipython3",
   "version": "3.12.7"
  }
 },
 "nbformat": 4,
 "nbformat_minor": 5
}
