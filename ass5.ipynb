{
 "cells": [
  {
   "cell_type": "markdown",
   "id": "2a2aee35-e8ee-4c56-acd4-fa9626fc01ba",
   "metadata": {},
   "source": [
    "# Q-1 (Series)"
   ]
  },
  {
   "cell_type": "raw",
   "id": "e12017fd-4523-405f-9e0d-58c67c1bc95b",
   "metadata": {},
   "source": [
    "create a pandas series from dictionary"
   ]
  },
  {
   "cell_type": "code",
   "execution_count": 7,
   "id": "0e1ac23d-aa1c-420f-baa4-9ca507b5e8c7",
   "metadata": {},
   "outputs": [
    {
     "name": "stdout",
     "output_type": "stream",
     "text": [
      "first     89\n",
      "second    78\n",
      "third     85\n",
      "dtype: int64\n"
     ]
    }
   ],
   "source": [
    "import pandas as pd\n",
    "a = {'first':89,'second':78,'third':85}\n",
    "s=pd.Series(a)\n",
    "print(s)"
   ]
  },
  {
   "cell_type": "raw",
   "id": "ed32fa62-5b44-4ed6-824b-dba92a1db471",
   "metadata": {},
   "source": [
    "create a pandas series from List"
   ]
  },
  {
   "cell_type": "code",
   "execution_count": 11,
   "id": "ff9374a1-313c-41b9-a39f-d090de1f47eb",
   "metadata": {},
   "outputs": [
    {
     "name": "stdout",
     "output_type": "stream",
     "text": [
      "0    10\n",
      "1    20\n",
      "2    30\n",
      "3    40\n",
      "4    50\n",
      "dtype: int64\n"
     ]
    }
   ],
   "source": [
    "import pandas as pd\n",
    "l = [10,20,30,40,50]\n",
    "s = pd.Series(l)\n",
    "print(s)"
   ]
  },
  {
   "cell_type": "raw",
   "id": "c868810d-f3ef-48fd-81af-06991b539665",
   "metadata": {},
   "source": [
    "access the elements of a Series in Python"
   ]
  },
  {
   "cell_type": "code",
   "execution_count": 17,
   "id": "3a1427a2-a75c-4a9b-92a7-73fd51b170a6",
   "metadata": {},
   "outputs": [
    {
     "name": "stdout",
     "output_type": "stream",
     "text": [
      "10\n",
      "30\n"
     ]
    }
   ],
   "source": [
    "import pandas as pd\n",
    "l = [10,20,30,40,50]\n",
    "s = pd.Series(l)\n",
    "print(s[0])\n",
    "print(s[2])"
   ]
  },
  {
   "cell_type": "markdown",
   "id": "9cfffa40-c9c4-469e-a039-c54be5011c73",
   "metadata": {},
   "source": [
    "# Q-2 (Data Frames)"
   ]
  },
  {
   "cell_type": "raw",
   "id": "a3c9d18c-284b-44bb-a461-7e738d0c5452",
   "metadata": {},
   "source": [
    "Make a python data frame with a 2-D Python List"
   ]
  },
  {
   "cell_type": "code",
   "execution_count": 21,
   "id": "295ab754-7d6a-4bb8-807c-7946586cf46f",
   "metadata": {},
   "outputs": [
    {
     "name": "stdout",
     "output_type": "stream",
     "text": [
      "    ID   Name  Marks\n",
      "0  101   Tanu     89\n",
      "1  102   Motu     79\n",
      "2  103  Chotu     87\n"
     ]
    }
   ],
   "source": [
    "import pandas as pd\n",
    "data = [ [101,'Tanu',89],\n",
    "         [102,'Motu',79],\n",
    "         [103,'Chotu',87]\n",
    "       ]\n",
    "df = pd.DataFrame(data,columns=['ID','Name','Marks'])\n",
    "print(df)"
   ]
  },
  {
   "cell_type": "raw",
   "id": "ef5fdd38-74cf-4107-8bff-096e25687e47",
   "metadata": {},
   "source": [
    "Create dataframe from python dictionary"
   ]
  },
  {
   "cell_type": "code",
   "execution_count": 23,
   "id": "477fde7a-341a-44f2-bd5f-44b58e00d2de",
   "metadata": {},
   "outputs": [
    {
     "name": "stdout",
     "output_type": "stream",
     "text": [
      "       Name  Age\n",
      "0     Aasim   56\n",
      "1       Ali   98\n",
      "2     Rahul   34\n",
      "3  Abhishek   12\n"
     ]
    }
   ],
   "source": [
    "import pandas as pd\n",
    "details = { 'Name':['Aasim','Ali','Rahul','Abhishek'] , 'Age':[56,98,34,12] }\n",
    "df = pd.DataFrame(details)\n",
    "print(df)"
   ]
  },
  {
   "cell_type": "raw",
   "id": "61fc4d6b-8da7-4389-9589-055954df9f52",
   "metadata": {},
   "source": [
    "create dataframe using list of lists"
   ]
  },
  {
   "cell_type": "code",
   "execution_count": 25,
   "id": "cd32b463-c6c7-48f4-8249-dc27ccfc5bc1",
   "metadata": {},
   "outputs": [
    {
     "name": "stdout",
     "output_type": "stream",
     "text": [
      "      Name  Age Profession\n",
      "0  Samarth   25   Engineer\n",
      "1     Reem   30     Doctor\n",
      "2   Ankita   22   Designer\n"
     ]
    }
   ],
   "source": [
    "import pandas as pd\n",
    "\n",
    "data = [\n",
    "    ['Samarth', 25, 'Engineer'],\n",
    "    ['Reem', 30, 'Doctor'],\n",
    "    ['Ankita', 22, 'Designer']\n",
    "]\n",
    "df = pd.DataFrame(data, columns=['Name', 'Age', 'Profession'])\n",
    "print(df)\n"
   ]
  },
  {
   "cell_type": "raw",
   "id": "171ec7d5-9e79-4a90-9fd7-d66e548a1233",
   "metadata": {},
   "source": [
    "create dataframe using list of tuples"
   ]
  },
  {
   "cell_type": "code",
   "execution_count": 27,
   "id": "e099f387-88f4-448e-b841-110bd7e61d0c",
   "metadata": {},
   "outputs": [
    {
     "name": "stdout",
     "output_type": "stream",
     "text": [
      "    Name  Age Profession\n",
      "0  Sohil   56  Developer\n",
      "1   Neha   23   Designer\n"
     ]
    }
   ],
   "source": [
    "import pandas as pd\n",
    "data = [('Sohil',56,'Developer'),\n",
    "        ('Neha',23,'Designer')\n",
    "       ]\n",
    "df = pd.DataFrame(data, columns=['Name', 'Age', 'Profession'])\n",
    "print(df)"
   ]
  },
  {
   "cell_type": "raw",
   "id": "ad9f60b6-cb45-4254-bcb3-5e4406de76d9",
   "metadata": {},
   "source": [
    "create dataframe using list of dicts"
   ]
  },
  {
   "cell_type": "code",
   "execution_count": 31,
   "id": "b698459d-99d3-4715-acfc-218214d02a5c",
   "metadata": {},
   "outputs": [
    {
     "name": "stdout",
     "output_type": "stream",
     "text": [
      "    Name  Salary Profession\n",
      "0    Aki   25000   Engineer\n",
      "1   Tata   30000     Doctor\n",
      "2  Rahul   22000   Designer\n"
     ]
    }
   ],
   "source": [
    "import pandas as pd\n",
    "data = [\n",
    "    {'Name': 'Aki', 'Salary': 25000, 'Profession': 'Engineer'},\n",
    "    {'Name': 'Tata', 'Salary': 30000, 'Profession': 'Doctor'},\n",
    "    {'Name': 'Rahul', 'Salary': 22000, 'Profession': 'Designer'}\n",
    "]\n",
    "df = pd.DataFrame(data)\n",
    "print(df)"
   ]
  },
  {
   "cell_type": "markdown",
   "id": "e3128d84-f2e7-4fc9-bc1c-cffea7569869",
   "metadata": {},
   "source": [
    "# Q-3 (Data Iteration)"
   ]
  },
  {
   "cell_type": "raw",
   "id": "9a480fd8-737a-4506-ad15-7e24761c0075",
   "metadata": {},
   "source": [
    "Different ways to iterate over rows in python -- using loc and iloc"
   ]
  },
  {
   "cell_type": "code",
   "execution_count": 34,
   "id": "be6f7013-5663-4b0b-8d9b-6d8948684ffe",
   "metadata": {},
   "outputs": [
    {
     "name": "stdout",
     "output_type": "stream",
     "text": [
      "Aasim 56\n",
      "Ali 98\n",
      "Rahul 34\n",
      "Abhishek 12\n"
     ]
    }
   ],
   "source": [
    "import pandas as pd\n",
    "details = { 'Name':['Aasim','Ali','Rahul','Abhishek'] , 'Age':[56,98,34,12] }\n",
    "df = pd.DataFrame(details)\n",
    "for i in range(len(df)):\n",
    "    print(df.iloc[i]['Name'], df.iloc[i]['Age'])"
   ]
  },
  {
   "cell_type": "code",
   "execution_count": 36,
   "id": "3c4e666e-0bc5-459f-a7e5-4fa6ba25f970",
   "metadata": {},
   "outputs": [
    {
     "name": "stdout",
     "output_type": "stream",
     "text": [
      "Aasim 56\n",
      "Ali 98\n",
      "Rahul 34\n",
      "Abhishek 12\n"
     ]
    }
   ],
   "source": [
    "import pandas as pd\n",
    "details = { 'Name':['Aasim','Ali','Rahul','Abhishek'] , 'Age':[56,98,34,12] }\n",
    "df = pd.DataFrame(details)\n",
    "for idx in df.index:\n",
    "    print(df.loc[idx]['Name'], df.loc[idx]['Age'])\n"
   ]
  },
  {
   "cell_type": "raw",
   "id": "b5b255c6-0327-4a1c-9ed6-f2b53715eb10",
   "metadata": {},
   "source": [
    "Selecting rows in pandas dataframe based on conditions"
   ]
  },
  {
   "cell_type": "code",
   "execution_count": 46,
   "id": "56151c2b-b3d2-4abd-9f1f-ddd685256b0a",
   "metadata": {},
   "outputs": [
    {
     "name": "stdout",
     "output_type": "stream",
     "text": [
      "    Name  Age       City\n",
      "1   Arun   30     Mumbai\n",
      "3  Dhruv   35  Bangalore\n",
      "\n",
      "\n",
      "  Name  Age   City\n",
      "0  Ali   25  Delhi\n"
     ]
    }
   ],
   "source": [
    "import pandas as pd\n",
    "data = {\n",
    "    'Name': ['Ali', 'Arun', 'Charul', 'Dhruv'],\n",
    "    'Age': [25, 30, 22, 35],\n",
    "    'City': ['Delhi', 'Mumbai', 'Delhi', 'Bangalore']\n",
    "}\n",
    "df = pd.DataFrame(data)\n",
    "# Condition of Age > 25\n",
    "result = df[df['Age'] > 25]\n",
    "print(result)\n",
    "print('\\n')\n",
    "# Condition of Age >= 25 AND City == 'Delhi'\n",
    "result = df[(df['Age'] >= 25) & (df['City'] == 'Delhi')]\n",
    "print(result)\n"
   ]
  },
  {
   "cell_type": "raw",
   "id": "5e063979-1443-48e9-84e2-bdd401fbfd7a",
   "metadata": {},
   "source": [
    "Select any row from a dataframe using iloc[]"
   ]
  },
  {
   "cell_type": "code",
   "execution_count": 52,
   "id": "c500fe26-afa7-48ad-bbbd-c5032f774da3",
   "metadata": {},
   "outputs": [
    {
     "name": "stdout",
     "output_type": "stream",
     "text": [
      "     Name  Age       City\n",
      "0     Ali   25      Delhi\n",
      "1    Arun   30     Mumbai\n",
      "2  Charul   22      Delhi\n",
      "3   Dhruv   35  Bangalore\n",
      "\n",
      "\n",
      "   Name  Age    City\n",
      "1  Arun   30  Mumbai\n"
     ]
    }
   ],
   "source": [
    "import pandas as pd\n",
    "data = {\n",
    "    'Name': ['Ali', 'Arun', 'Charul', 'Dhruv'],\n",
    "    'Age': [25, 30, 22, 35],\n",
    "    'City': ['Delhi', 'Mumbai', 'Delhi', 'Bangalore']\n",
    "}\n",
    "df = pd.DataFrame(data)\n",
    "print(df)\n",
    "print('\\n')\n",
    "print(df.iloc[1:2,:])"
   ]
  },
  {
   "cell_type": "raw",
   "id": "0ae98289-b421-42a8-a221-be7f60359cfa",
   "metadata": {},
   "source": [
    "Limited rows selection with given column"
   ]
  },
  {
   "cell_type": "code",
   "execution_count": 54,
   "id": "fed748cd-70e7-4c26-8b0c-7bb05f7987c1",
   "metadata": {},
   "outputs": [
    {
     "name": "stdout",
     "output_type": "stream",
     "text": [
      "     Name  Age       City\n",
      "0     Ali   25      Delhi\n",
      "1    Arun   30     Mumbai\n",
      "2  Charul   22      Delhi\n",
      "3   Dhruv   35  Bangalore\n",
      "\n",
      "\n",
      "     Name  Age\n",
      "0     Ali   25\n",
      "1    Arun   30\n",
      "2  Charul   22\n"
     ]
    }
   ],
   "source": [
    "import pandas as pd\n",
    "data = {\n",
    "    'Name': ['Ali', 'Arun', 'Charul', 'Dhruv'],\n",
    "    'Age': [25, 30, 22, 35],\n",
    "    'City': ['Delhi', 'Mumbai', 'Delhi', 'Bangalore']\n",
    "}\n",
    "df = pd.DataFrame(data)\n",
    "print(df)\n",
    "print('\\n')\n",
    "result = df.iloc[:3, :2]\n",
    "print(result)\n"
   ]
  },
  {
   "cell_type": "raw",
   "id": "f4815bbf-86f7-4fb5-bf1b-8a2503c95239",
   "metadata": {},
   "source": [
    "Drop rows from dataframe based on certain conditions applied on a column"
   ]
  },
  {
   "cell_type": "code",
   "execution_count": 62,
   "id": "c5671ec1-3603-44f3-9c15-2c029bcebf4b",
   "metadata": {},
   "outputs": [
    {
     "name": "stdout",
     "output_type": "stream",
     "text": [
      "     Name  Age       City\n",
      "0     Ali   25      Delhi\n",
      "1    Arun   30     Mumbai\n",
      "2  Charul   22      Delhi\n",
      "3   Dhruv   35  Bangalore\n",
      "\n",
      "\n",
      "    Name  Age       City\n",
      "1   Arun   30     Mumbai\n",
      "3  Dhruv   35  Bangalore\n"
     ]
    }
   ],
   "source": [
    "import pandas as pd\n",
    "data = {\n",
    "    'Name': ['Ali', 'Arun', 'Charul', 'Dhruv'],\n",
    "    'Age': [25, 30, 22, 35],\n",
    "    'City': ['Delhi', 'Mumbai', 'Delhi', 'Bangalore']\n",
    "}\n",
    "df = pd.DataFrame(data)\n",
    "print(df)\n",
    "print('\\n')\n",
    "# dropping rows where city is delhi\n",
    "drr = df[df['City'] != 'Delhi']\n",
    "print(drr)"
   ]
  },
  {
   "cell_type": "raw",
   "id": "acd217ba-6ef5-4462-926b-9fa1753cd35f",
   "metadata": {},
   "source": [
    "Insert row at given position in pandas dataframe"
   ]
  },
  {
   "cell_type": "code",
   "execution_count": 66,
   "id": "01b9a2b2-3d66-497f-9706-221a53f74c5e",
   "metadata": {},
   "outputs": [
    {
     "name": "stdout",
     "output_type": "stream",
     "text": [
      "     Name  Age       City\n",
      "0     Ali   25      Delhi\n",
      "1    Arun   30     Mumbai\n",
      "2  Charul   22      Delhi\n",
      "3   Dhruv   35  Bangalore\n",
      "\n",
      "\n",
      "     Name  Age       City\n",
      "0     Ali   25      Delhi\n",
      "1   Rubii   28  Hyderabad\n",
      "2    Arun   30     Mumbai\n",
      "3  Charul   22      Delhi\n",
      "4   Dhruv   35  Bangalore\n"
     ]
    }
   ],
   "source": [
    "import pandas as pd\n",
    "data = {\n",
    "    'Name': ['Ali', 'Arun', 'Charul', 'Dhruv'],\n",
    "    'Age': [25, 30, 22, 35],\n",
    "    'City': ['Delhi', 'Mumbai', 'Delhi', 'Bangalore']\n",
    "}\n",
    "df = pd.DataFrame(data)\n",
    "print(df)\n",
    "print('\\n')\n",
    "new_row = pd.DataFrame([{'Name': 'Rubii', 'Age': 28, 'City':'Hyderabad'}])\n",
    "# Insert at position 1\n",
    "df = pd.concat([df.iloc[:1], new_row, df.iloc[1:]]).reset_index(drop=True)\n",
    "print(df)"
   ]
  },
  {
   "cell_type": "raw",
   "id": "ea128a10-30e2-4608-a6b4-b94887285524",
   "metadata": {},
   "source": [
    "Create a list from rows in Pandas dataframe"
   ]
  },
  {
   "cell_type": "code",
   "execution_count": 68,
   "id": "3e081733-295a-4e3d-ba81-2548afae5b55",
   "metadata": {},
   "outputs": [
    {
     "name": "stdout",
     "output_type": "stream",
     "text": [
      "     Name  Age       City\n",
      "0     Ali   25      Delhi\n",
      "1    Arun   30     Mumbai\n",
      "2  Charul   22      Delhi\n",
      "3   Dhruv   35  Bangalore\n",
      "\n",
      "\n",
      "[['Ali', 25, 'Delhi'], ['Arun', 30, 'Mumbai'], ['Charul', 22, 'Delhi'], ['Dhruv', 35, 'Bangalore']]\n"
     ]
    }
   ],
   "source": [
    "import pandas as pd\n",
    "data = {\n",
    "    'Name': ['Ali', 'Arun', 'Charul', 'Dhruv'],\n",
    "    'Age': [25, 30, 22, 35],\n",
    "    'City': ['Delhi', 'Mumbai', 'Delhi', 'Bangalore']\n",
    "}\n",
    "df = pd.DataFrame(data)\n",
    "print(df)\n",
    "print('\\n')\n",
    "rows_as_lists = df.values.tolist()\n",
    "print(rows_as_lists)\n"
   ]
  },
  {
   "cell_type": "markdown",
   "id": "0eb345ad-b122-4c4d-9b7a-04dbb7f2b31a",
   "metadata": {},
   "source": [
    "# ----------------DONE-----------------------"
   ]
  },
  {
   "cell_type": "code",
   "execution_count": null,
   "id": "3dd49775-06c1-40aa-a39f-5e981ee92d0d",
   "metadata": {},
   "outputs": [],
   "source": []
  }
 ],
 "metadata": {
  "kernelspec": {
   "display_name": "Python [conda env:base] *",
   "language": "python",
   "name": "conda-base-py"
  },
  "language_info": {
   "codemirror_mode": {
    "name": "ipython",
    "version": 3
   },
   "file_extension": ".py",
   "mimetype": "text/x-python",
   "name": "python",
   "nbconvert_exporter": "python",
   "pygments_lexer": "ipython3",
   "version": "3.12.7"
  }
 },
 "nbformat": 4,
 "nbformat_minor": 5
}
