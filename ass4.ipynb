{
 "cells": [
  {
   "cell_type": "markdown",
   "id": "1ab92937-d875-4d4d-9df5-3aaf87b02126",
   "metadata": {},
   "source": [
    "# Assignment - 4"
   ]
  },
  {
   "cell_type": "raw",
   "id": "002be980-f789-4667-ac83-5feb0460203c",
   "metadata": {},
   "source": [
    "1. Create a CSV file for address book , csv files should have columns for name , address , mobile , email.\n",
    "   Insert 2-3 dummy data."
   ]
  },
  {
   "cell_type": "code",
   "execution_count": 4,
   "id": "3760172d-c9b0-4ba8-b6b2-af255190e13b",
   "metadata": {},
   "outputs": [],
   "source": [
    "import csv\n",
    "info = [['name','address','mobile','email'],\n",
    "        ['Tanu','b-blk,malviya nagar','9875678976','sdfg@gmail.com'],\n",
    "        ['Dev','c-blk,model town','9455374096','uytr@gmail.com'],\n",
    "        ['Nia','j-blk,shivam nagar','93685788976','lkjh@gmail.com']]\n",
    "with open('info.csv','w',newline='') as file:\n",
    "    wri = csv.writer(file)\n",
    "    for x in info:\n",
    "        wri.writerow(x)"
   ]
  },
  {
   "cell_type": "code",
   "execution_count": 6,
   "id": "a4fe9fbe-b465-4e01-aa82-cca9ab06698c",
   "metadata": {},
   "outputs": [
    {
     "name": "stdout",
     "output_type": "stream",
     "text": [
      "['name', 'address', 'mobile', 'email']\n",
      "['Tanu', 'b-blk,malviya nagar', '9875678976', 'sdfg@gmail.com']\n",
      "['Dev', 'c-blk,model town', '9455374096', 'uytr@gmail.com']\n",
      "['Nia', 'j-blk,shivam nagar', '93685788976', 'lkjh@gmail.com']\n"
     ]
    }
   ],
   "source": [
    "import csv\n",
    "with open('info.csv','r') as file:\n",
    "    read = csv.reader(file)\n",
    "    for x in read:\n",
    "        print(x)"
   ]
  },
  {
   "cell_type": "raw",
   "id": "8dff7953-c30c-4fed-9264-61a29df04de5",
   "metadata": {},
   "source": [
    "2. get data using weather API"
   ]
  },
  {
   "cell_type": "code",
   "execution_count": null,
   "id": "1ea0dbf0-77bf-4d78-8880-3c4bcd18943f",
   "metadata": {},
   "outputs": [],
   "source": [
    "import requests\n",
    "\n",
    "def weather(city, api_key):\n",
    "    url = \"https://api.openweathermap.org/data/2.5/weather?\"\n",
    "    final_url = f\"{url}q={city}&appid={api_key}&units=metric\"\n",
    "    \n",
    "    try:\n",
    "        response = requests.get(final_url) \n",
    "        data = response.json()\n",
    "\n",
    "        temp = data[\"main\"][\"temp\"]\n",
    "        humidity = data[\"main\"][\"humidity\"]\n",
    "        feels_like = data[\"main\"][\"feels_like\"]\n",
    "\n",
    "        print(f\"Weather in {city}:\")\n",
    "        print(f\"Temperature: {temp}°C\")\n",
    "        print(f\"Feels Like: {feels_like}°C\")\n",
    "        print(f\"Humidity: {humidity}%\")\n",
    "\n",
    "    except requests.exceptions.RequestException as e:\n",
    "        print(f\"Error fetching weather data: {e}\")\n",
    "    except KeyError:\n",
    "        print(\"Error: Could not find weather information for this city. Please check the city name.\")\n",
    "\n",
    "city = input(\"Enter city name: \")\n",
    "api_key = \"1b42834476f72a199bb8833209b9ed5b\"\n",
    "weather(city, api_key)"
   ]
  },
  {
   "cell_type": "raw",
   "id": "4c5ed291-cd7c-407d-bb99-b28a8b4bf18f",
   "metadata": {},
   "source": [
    "3. practice database\n",
    "  # i am linking mysql here..."
   ]
  },
  {
   "cell_type": "code",
   "execution_count": 16,
   "id": "97ff7452-4c09-4d94-9ce7-a4fdadbffa73",
   "metadata": {},
   "outputs": [],
   "source": [
    "import mysql.connector\n",
    "\n",
    "conn = mysql.connector.connect(host=\"127.0.0.1\",\n",
    "    user=\"root\",\n",
    "    password=\"tanu\")\n",
    "\n",
    "cursor = conn.cursor()\n",
    "cursor.execute(\"create database ass4\")"
   ]
  },
  {
   "cell_type": "code",
   "execution_count": 30,
   "id": "34780f62-8642-4cfa-a633-9d051d06ecd0",
   "metadata": {},
   "outputs": [
    {
     "name": "stdout",
     "output_type": "stream",
     "text": [
      "(1, 'tanu', 50)\n",
      "(2, 'lulu', 89)\n",
      "(3, 'toffee', 67)\n",
      "next query...\n",
      "(2, 'lulu', 89)\n",
      "(3, 'toffee', 67)\n"
     ]
    }
   ],
   "source": [
    "import mysql.connector\n",
    "\n",
    "conn = mysql.connector.connect(host=\"127.0.0.1\",\n",
    "    user=\"root\",\n",
    "    password=\"tanu\",\n",
    "    database=\"ass4\"\n",
    ")\n",
    "cursor = conn.cursor()\n",
    "# creating table\n",
    "cursor.execute(\"\"\"\n",
    "CREATE TABLE IF NOT EXISTS stud (\n",
    "    id INT AUTO_INCREMENT PRIMARY KEY,\n",
    "    name VARCHAR(20),\n",
    "    marks INT\n",
    ")\n",
    "\"\"\")\n",
    "\n",
    "#inserting into table\n",
    "cursor.execute(\"\"\"\n",
    "INSERT INTO stud (name, marks) VALUES \n",
    "('tanu', 50), \n",
    "('lulu', 89), \n",
    "('toffee', 67)\n",
    "\"\"\")\n",
    "\n",
    "# selecting and displaying records\n",
    "cursor.execute(\"SELECT * FROM stud\")\n",
    "rows = cursor.fetchall()\n",
    "for row in rows:\n",
    "    print(row)\n",
    "\n",
    "print('next query...')\n",
    "cursor.execute(\"SELECT * FROM stud where marks>60\")\n",
    "rows = cursor.fetchall()\n",
    "for row in rows:\n",
    "    print(row)\n",
    "\n",
    "cursor.execute(\"delete from stud where id=2\")\n",
    "\n",
    "\n",
    "conn.commit()\n",
    "cursor.close()\n",
    "conn.close()"
   ]
  },
  {
   "cell_type": "code",
   "execution_count": 55,
   "id": "eac4c174-413b-4405-8e4e-dad52016d0f1",
   "metadata": {},
   "outputs": [
    {
     "name": "stdout",
     "output_type": "stream",
     "text": [
      "(1, 'fgh', 50000)\n",
      "(2, 'erty', 89000)\n",
      "(3, 'kjhee', 67000)\n",
      "(4, 'asdf', 56000)\n",
      "(5, 'trbe', 98000)\n",
      "next query...\n",
      "(2, 'erty', 89000)\n",
      "(3, 'kjhee', 67000)\n",
      "(5, 'trbe', 98000)\n"
     ]
    }
   ],
   "source": [
    "import mysql.connector\n",
    "\n",
    "conn = mysql.connector.connect(\n",
    "    host=\"127.0.0.1\",\n",
    "    user=\"root\",\n",
    "    password=\"tanu\",\n",
    "    database=\"ass4\"\n",
    ")\n",
    "\n",
    "cursor = conn.cursor()\n",
    "\n",
    "# Create table\n",
    "cursor.execute(\"\"\"\n",
    "CREATE TABLE IF NOT EXISTS empl (\n",
    "    id INT AUTO_INCREMENT PRIMARY KEY,\n",
    "    name VARCHAR(20),\n",
    "    salary INT\n",
    ")\n",
    "\"\"\")\n",
    "\n",
    "# Insert data — without repeating id\n",
    "cursor.execute(\"\"\"\n",
    "INSERT INTO empl (name, salary) VALUES \n",
    "('fgh', 50000), \n",
    "('erty', 89000), \n",
    "('kjhee', 67000),\n",
    "('asdf', 56000),\n",
    "('trbe', 98000)\n",
    "\"\"\")\n",
    "\n",
    "# Select all\n",
    "cursor.execute(\"SELECT * FROM empl\")\n",
    "rows = cursor.fetchall()\n",
    "for row in rows:\n",
    "    print(row)\n",
    "\n",
    "print('next query...')\n",
    "\n",
    "# Select where salary > 60000\n",
    "cursor.execute(\"SELECT * FROM empl WHERE salary > 60000\")\n",
    "rows = cursor.fetchall()\n",
    "for row in rows:\n",
    "    print(row)\n",
    "\n",
    "# Update salary\n",
    "cursor.execute(\"UPDATE empl SET salary = 99000 WHERE id = 2\")\n",
    "\n",
    "# Delete record\n",
    "cursor.execute(\"DELETE FROM empl WHERE id = 5\")\n",
    "\n",
    "conn.commit()\n",
    "cursor.close()\n",
    "conn.close()\n"
   ]
  },
  {
   "cell_type": "markdown",
   "id": "da03e7a8-ee61-4e8f-8f91-3d57604eba92",
   "metadata": {},
   "source": [
    "# -------------DONE----------------------"
   ]
  }
 ],
 "metadata": {
  "kernelspec": {
   "display_name": "Python [conda env:base] *",
   "language": "python",
   "name": "conda-base-py"
  },
  "language_info": {
   "codemirror_mode": {
    "name": "ipython",
    "version": 3
   },
   "file_extension": ".py",
   "mimetype": "text/x-python",
   "name": "python",
   "nbconvert_exporter": "python",
   "pygments_lexer": "ipython3",
   "version": "3.12.7"
  }
 },
 "nbformat": 4,
 "nbformat_minor": 5
}
