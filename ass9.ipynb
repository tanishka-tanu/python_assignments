{
 "cells": [
  {
   "cell_type": "markdown",
   "id": "c11912d3-a3d4-4d27-bfb4-a5428d5ccd8b",
   "metadata": {},
   "source": [
    "# Assignment 9"
   ]
  },
  {
   "cell_type": "raw",
   "id": "06849c69-bc8c-49e3-9038-11aabb46bb66",
   "metadata": {},
   "source": [
    "Q1 combining a one and a two dimensioal numpy array"
   ]
  },
  {
   "cell_type": "code",
   "execution_count": 20,
   "id": "49db69c3-8424-483a-adf6-05fa092b5914",
   "metadata": {},
   "outputs": [
    {
     "name": "stdout",
     "output_type": "stream",
     "text": [
      "[[1 2 3]]\n",
      "\n",
      "\n",
      "[[1 2 3]\n",
      " [4 5 6]\n",
      " [7 8 9]]\n"
     ]
    }
   ],
   "source": [
    "import numpy as np\n",
    "a = np.array([1, 2, 3])\n",
    "b = np.array([[4, 5, 6], [7, 8, 9]])\n",
    "\n",
    "a_reshaped = a.reshape(1, -1)\n",
    "print(a_reshaped)\n",
    "print('\\n')\n",
    "combined = np.concatenate((a_reshaped, b), axis=0)\n",
    "print(combined)"
   ]
  },
  {
   "cell_type": "raw",
   "id": "a5780ba5-e260-47a5-8044-2077f183622b",
   "metadata": {},
   "source": [
    "Q2 Flatten a 2D numpy array into 1D array"
   ]
  },
  {
   "cell_type": "code",
   "execution_count": 22,
   "id": "84a33c64-c5b1-4be9-bd93-211bd3102b94",
   "metadata": {},
   "outputs": [
    {
     "name": "stdout",
     "output_type": "stream",
     "text": [
      "[4 5 6 7 8 9]\n"
     ]
    }
   ],
   "source": [
    "# using reshape\n",
    "b = np.array([[4, 5, 6], [7, 8, 9]])\n",
    "print(b.reshape(-1))"
   ]
  },
  {
   "cell_type": "code",
   "execution_count": 26,
   "id": "d02ad4d4-cd45-49f1-9307-dfd2e37340e4",
   "metadata": {},
   "outputs": [
    {
     "name": "stdout",
     "output_type": "stream",
     "text": [
      "[4 5 6 7 8 9]\n"
     ]
    }
   ],
   "source": [
    "# using ravel()\n",
    "b = np.array([[4, 5, 6], [7, 8, 9]])\n",
    "print(b.ravel())"
   ]
  },
  {
   "cell_type": "raw",
   "id": "88ace886-b509-42df-ba59-f20edb05de5d",
   "metadata": {},
   "source": [
    "Q3 Reverse a numpy array"
   ]
  },
  {
   "cell_type": "code",
   "execution_count": 32,
   "id": "b0845aa1-16c8-4b1c-9357-3cbc8d29c0ec",
   "metadata": {},
   "outputs": [
    {
     "name": "stdout",
     "output_type": "stream",
     "text": [
      "[[9 8 7]\n",
      " [6 5 4]]\n"
     ]
    }
   ],
   "source": [
    "# using flip()\n",
    "b = np.array([[4, 5, 6], [7, 8, 9]])\n",
    "rev =np.flip(b)\n",
    "print(rev)"
   ]
  },
  {
   "cell_type": "code",
   "execution_count": 42,
   "id": "e7ad1229-35bb-4d7c-934a-9d9196a5e058",
   "metadata": {},
   "outputs": [
    {
     "name": "stdout",
     "output_type": "stream",
     "text": [
      "[[9 8 7]\n",
      " [6 5 4]]\n"
     ]
    }
   ],
   "source": [
    "# using slicing\n",
    "b = np.array([[4, 5, 6], [7, 8, 9]])\n",
    "print(b[::-1,::-1])"
   ]
  },
  {
   "cell_type": "raw",
   "id": "98a660c1-035f-4ac4-b23c-e3ab1a060cdd",
   "metadata": {},
   "source": [
    "Q4 Practice operations like - "
   ]
  },
  {
   "cell_type": "code",
   "execution_count": 44,
   "id": "11b25a58-09de-4219-a3b5-ae03685964ba",
   "metadata": {},
   "outputs": [
    {
     "name": "stdout",
     "output_type": "stream",
     "text": [
      "65\n"
     ]
    }
   ],
   "source": [
    "# get the maximum value from given array\n",
    "b = np.array([[42, 25, 65], [17, 18, 49]])\n",
    "print(np.max(b))"
   ]
  },
  {
   "cell_type": "code",
   "execution_count": 46,
   "id": "8524b2af-1f34-4bc2-81f0-9e14c05c579c",
   "metadata": {},
   "outputs": [
    {
     "name": "stdout",
     "output_type": "stream",
     "text": [
      "17\n"
     ]
    }
   ],
   "source": [
    "# get the minimum value from given array\n",
    "b = np.array([[42, 25, 65], [17, 18, 49]])\n",
    "print(np.min(b))"
   ]
  },
  {
   "cell_type": "code",
   "execution_count": 48,
   "id": "73823dfc-13db-4c8f-a392-939c0f6fa94e",
   "metadata": {},
   "outputs": [
    {
     "name": "stdout",
     "output_type": "stream",
     "text": [
      "(2, 3)\n"
     ]
    }
   ],
   "source": [
    "# find the no of rows and column of a given array using numpy\n",
    "b = np.array([[42, 25, 65], [17, 18, 49]])\n",
    "print(b.shape)"
   ]
  },
  {
   "cell_type": "code",
   "execution_count": 50,
   "id": "d7846019-2c42-4ecb-a4c2-c76620018f57",
   "metadata": {},
   "outputs": [
    {
     "name": "stdout",
     "output_type": "stream",
     "text": [
      "42\n",
      "25\n",
      "65\n",
      "17\n",
      "18\n",
      "49\n"
     ]
    }
   ],
   "source": [
    "# Select the element from a given array (each element and specific element)\n",
    "#using for loop\n",
    "b = np.array([[42, 25, 65], [17, 18, 49]])\n",
    "for row in b:\n",
    "    for e in row:\n",
    "        print(e)"
   ]
  },
  {
   "cell_type": "code",
   "execution_count": 52,
   "id": "51f2955a-c19a-425e-a163-d272e0d70436",
   "metadata": {},
   "outputs": [
    {
     "name": "stdout",
     "output_type": "stream",
     "text": [
      "42\n",
      "25\n",
      "65\n",
      "17\n",
      "18\n",
      "49\n"
     ]
    }
   ],
   "source": [
    "#using nditer() function\n",
    "b = np.array([[42, 25, 65], [17, 18, 49]])\n",
    "for e in np.nditer(b):\n",
    "    print(e)"
   ]
  },
  {
   "cell_type": "code",
   "execution_count": 54,
   "id": "c1af1636-f245-43b2-80b3-bd2e040ce169",
   "metadata": {},
   "outputs": [
    {
     "name": "stdout",
     "output_type": "stream",
     "text": [
      "sum= 216\n"
     ]
    }
   ],
   "source": [
    "# find sum of values in a 2D array using for loop\n",
    "b = np.array([[42, 25, 65], [17, 18, 49]])\n",
    "sum = 0\n",
    "for e in np.nditer(b):\n",
    "    sum+=e\n",
    "\n",
    "print(\"sum=\",sum)"
   ]
  },
  {
   "cell_type": "code",
   "execution_count": 60,
   "id": "cc110324-af58-4892-a406-e1802cd694b3",
   "metadata": {},
   "outputs": [
    {
     "name": "stdout",
     "output_type": "stream",
     "text": [
      "addition=\n",
      " [[109  37 154]\n",
      " [ 44  41  77]]\n",
      "subtraction=\n",
      " [[ 25 -13  24]\n",
      " [ 10   5 -21]]\n",
      "multiplication=\n",
      " [[2814  300 5785]\n",
      " [ 459  414 1372]]\n",
      "division=\n",
      " [[1.5952381  0.48       1.36923077]\n",
      " [1.58823529 1.27777778 0.57142857]]\n"
     ]
    }
   ],
   "source": [
    "# adding , subtarcting, multiplying , dividing  arrays in numpy\n",
    "a = np.array([[67, 12, 89], [27, 23, 28]])\n",
    "b = np.array([[42, 25, 65], [17, 18, 49]])\n",
    "print(\"addition=\\n\",a+b)\n",
    "print(\"subtraction=\\n\",a-b)\n",
    "print(\"multiplication=\\n\",a*b)\n",
    "print(\"division=\\n\",a/b)"
   ]
  },
  {
   "cell_type": "markdown",
   "id": "67b8cdfe-30fe-4e50-aa3e-a3d19e016a41",
   "metadata": {},
   "source": [
    "# ---------------------DONE-----------------------------"
   ]
  }
 ],
 "metadata": {
  "kernelspec": {
   "display_name": "Python [conda env:base] *",
   "language": "python",
   "name": "conda-base-py"
  },
  "language_info": {
   "codemirror_mode": {
    "name": "ipython",
    "version": 3
   },
   "file_extension": ".py",
   "mimetype": "text/x-python",
   "name": "python",
   "nbconvert_exporter": "python",
   "pygments_lexer": "ipython3",
   "version": "3.12.7"
  }
 },
 "nbformat": 4,
 "nbformat_minor": 5
}
