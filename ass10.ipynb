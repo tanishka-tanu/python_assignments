{
 "cells": [
  {
   "cell_type": "markdown",
   "id": "99e8ac79-a1af-4761-b5f0-e093a6227b94",
   "metadata": {},
   "source": [
    "# Assignment -10"
   ]
  },
  {
   "cell_type": "raw",
   "id": "107ab882-35e9-4bf8-9214-d4f6945c79f0",
   "metadata": {},
   "source": [
    "Q1 - Replace nan with 0 and interchange 3 rows and 3 columns of 2D array [[6,-8,73,-110],[np.nan,-8,0,94]]"
   ]
  },
  {
   "cell_type": "code",
   "execution_count": 10,
   "id": "67de4b16-8eed-4321-8a51-753d7792a99b",
   "metadata": {},
   "outputs": [
    {
     "name": "stdout",
     "output_type": "stream",
     "text": [
      "[[   6.   -8.   73. -110.]\n",
      " [   0.   -8.    0.   94.]]\n"
     ]
    }
   ],
   "source": [
    "import numpy as np\n",
    "arr = np.array([[6,-8,73,-110],[np.nan,-8,0,94]])\n",
    "print(np.nan_to_num(arr,nan=0))\n",
    "print('\\n')\n"
   ]
  },
  {
   "cell_type": "code",
   "execution_count": 18,
   "id": "d06d9acc-2d61-46c3-a09c-d928aafe1ff0",
   "metadata": {},
   "outputs": [
    {
     "name": "stdout",
     "output_type": "stream",
     "text": [
      "[[   6   -8   73 -110]\n",
      " [  23   -8    0   94]\n",
      " [   3    9    5   15]] \n",
      "\n",
      "[[  23   -8    0   94]\n",
      " [   3    9    5   15]\n",
      " [   6   -8   73 -110]]\n"
     ]
    }
   ],
   "source": [
    "# interchanging 3 rows\n",
    "arr = np.array([[6,-8,73,-110],[23,-8,0,94] , [3,9,5,15]])\n",
    "print(arr , '\\n')\n",
    "arr[[0,1,2],:]  = arr[[1,2,0],:] \n",
    "print(arr)\n"
   ]
  },
  {
   "cell_type": "code",
   "execution_count": 26,
   "id": "b41e96c8-2bbb-4a4b-8d6f-9dcfde0c3439",
   "metadata": {},
   "outputs": [
    {
     "name": "stdout",
     "output_type": "stream",
     "text": [
      "[[   6   -8   73 -110]\n",
      " [  23   -8    0   94]\n",
      " [   3    9    5   15]] \n",
      "\n",
      "[[73 -8  6 -8]\n",
      " [ 0 -8 23 -8]\n",
      " [ 5  9  3  9]]\n"
     ]
    }
   ],
   "source": [
    "# interchanging 3 columns\n",
    "arr = np.array([[6,-8,73,-110],[23,-8,0,94] , [3,9,5,15]])\n",
    "print(arr , '\\n')\n",
    "arr[:,[0,2,3]]  = arr[:,[2,0,1]] \n",
    "print(arr)\n"
   ]
  },
  {
   "cell_type": "markdown",
   "id": "fafeacd7-d74c-4f31-8f67-f9aac15880c7",
   "metadata": {},
   "source": [
    "Q2 - Move axes of 3D array to new positions"
   ]
  },
  {
   "cell_type": "code",
   "execution_count": 33,
   "id": "59b38328-1842-4130-a1fa-03a189a1f3fe",
   "metadata": {},
   "outputs": [
    {
     "name": "stdout",
     "output_type": "stream",
     "text": [
      "Original shape: (2, 3, 4)\n",
      "[[[6 9 2 3]\n",
      "  [2 8 6 1]\n",
      "  [2 7 7 4]]\n",
      "\n",
      " [[3 1 9 4]\n",
      "  [0 1 5 8]\n",
      "  [8 8 6 1]]]\n",
      "New shape: (3, 4, 2)\n"
     ]
    }
   ],
   "source": [
    "import numpy as np\n",
    "\n",
    "arr = np.random.randint(10, size=(2, 3, 4))\n",
    "print(\"Original shape:\", arr.shape)\n",
    "print(arr)\n",
    "moved = np.moveaxis(arr, 0, -1)\n",
    "print(\"New shape:\", moved.shape)"
   ]
  },
  {
   "cell_type": "raw",
   "id": "5aa8e310-6a3a-40ee-ba17-66428ee48e09",
   "metadata": {},
   "source": [
    "Q3 - Replace nan values with avg of columns?"
   ]
  },
  {
   "cell_type": "code",
   "execution_count": 43,
   "id": "a24995c0-d34d-4d67-8e99-a1a74656095f",
   "metadata": {},
   "outputs": [
    {
     "name": "stdout",
     "output_type": "stream",
     "text": [
      "before replacing nan:\n",
      " [[ 1.  2. nan]\n",
      " [ 4. nan  6.]\n",
      " [ 7.  8.  9.]]\n",
      "Array after replacing NaNs with column means:\n",
      " [[1.  2.  7.5]\n",
      " [4.  5.  6. ]\n",
      " [7.  8.  9. ]]\n"
     ]
    }
   ],
   "source": [
    "import numpy as np\n",
    "arr = np.array([[1, 2, np.nan],\n",
    "                [4, np.nan, 6],\n",
    "                [7, 8, 9]])\n",
    "print('before replacing nan:\\n',arr)\n",
    "col_mean = np.nanmean(arr, axis=0)\n",
    "chk = np.where(np.isnan(arr))\n",
    "arr[chk] = np.take(col_mean, chk[1])\n",
    "\n",
    "print(\"Array after replacing NaNs with column means:\\n\", arr)\n"
   ]
  },
  {
   "cell_type": "raw",
   "id": "2a492e14-d42e-4680-9d47-a7ecbd2da9a1",
   "metadata": {},
   "source": [
    "Q4 replace negative value with 0 in numpy using numpy array"
   ]
  },
  {
   "cell_type": "code",
   "execution_count": 45,
   "id": "03136ff8-da3b-4f91-aaa7-d80ff230caa2",
   "metadata": {},
   "outputs": [
    {
     "name": "stdout",
     "output_type": "stream",
     "text": [
      "Replaced array:\n",
      " [[4 0 6]\n",
      " [0 2 0]]\n"
     ]
    }
   ],
   "source": [
    "import numpy as np\n",
    "\n",
    "arr = np.array([[4, -5, 6],\n",
    "                [-1, 2, -3]])\n",
    "\n",
    "arr = np.where(arr < 0, 0, arr)\n",
    "\n",
    "print(\"Replaced array:\\n\", arr)\n"
   ]
  },
  {
   "cell_type": "raw",
   "id": "be18bd08-25b1-45a1-ad20-2ab1905ecb86",
   "metadata": {},
   "source": [
    "Q5 Given program --- # calculate avg , mean , mode , median , mode values of numpy 2 D arrays"
   ]
  },
  {
   "cell_type": "code",
   "execution_count": 49,
   "id": "3f36a18f-827c-4d64-9e1b-5b21b2ac17ab",
   "metadata": {},
   "outputs": [
    {
     "name": "stdout",
     "output_type": "stream",
     "text": [
      "Average or arrays: [2. 2.]\n"
     ]
    }
   ],
   "source": [
    "arr1 = np.array([3,4])\n",
    "arr2 = np.array([1,0])\n",
    "#finding average\n",
    "avg = (arr1+arr2)/2\n",
    "print('Average or arrays:',avg)"
   ]
  },
  {
   "cell_type": "code",
   "execution_count": 57,
   "id": "6285f582-3561-459f-840a-f106d6847837",
   "metadata": {},
   "outputs": [
    {
     "name": "stdout",
     "output_type": "stream",
     "text": [
      "Combined Array:\n",
      " [[ 1  2  3]\n",
      " [ 4  5  6]\n",
      " [ 7  8  9]\n",
      " [10 11 12]]\n",
      "Mean: 6.5\n",
      "Average: 6.5\n",
      "Median: 6.5\n",
      "Mode: [1]\n"
     ]
    }
   ],
   "source": [
    "import numpy as np\n",
    "from scipy import stats\n",
    "arr1 = np.array([[1, 2, 3],\n",
    "                 [4, 5, 6]])\n",
    "\n",
    "arr2 = np.array([[7, 8, 9],\n",
    "                 [10, 11, 12]])\n",
    "combined = np.concatenate((arr1, arr2), axis=0)  \n",
    "\n",
    "mean_val = np.mean(combined)\n",
    "average_val = np.average(combined)\n",
    "median_val = np.median(combined)\n",
    "mode_result = stats.mode(combined, axis=None, keepdims=True)  \n",
    "\n",
    "# Output\n",
    "print(\"Combined Array:\\n\", combined)\n",
    "print(\"Mean:\", mean_val)\n",
    "print(\"Average:\", average_val)\n",
    "print(\"Median:\", median_val)\n",
    "print(\"Mode:\", mode_result.mode[0])\n"
   ]
  },
  {
   "cell_type": "raw",
   "id": "ed0f3908-e28f-4abc-99d7-257d20303a32",
   "metadata": {},
   "source": [
    "Q6 Solve the linear equation\n",
    "x-2y+3z=9\n",
    "-x+3y-z=-6\n",
    "2x-5y+5z=17\n",
    "using linalg() and matrix inverse method"
   ]
  },
  {
   "cell_type": "code",
   "execution_count": 59,
   "id": "9f22a3c3-d2f1-43a7-bb56-dc5ec7f29c12",
   "metadata": {},
   "outputs": [
    {
     "name": "stdout",
     "output_type": "stream",
     "text": [
      "[ 1. -1.  2.]\n"
     ]
    }
   ],
   "source": [
    "a1 = [[1,-2,3],[-1,3,-1],[2,-5,5]]\n",
    "a2 = [9,-6,17]\n",
    "res = np.linalg.solve(a1,a2)\n",
    "print(res)"
   ]
  },
  {
   "cell_type": "code",
   "execution_count": 63,
   "id": "709b1f6a-16c3-4f89-a218-4ed7c62e5a44",
   "metadata": {},
   "outputs": [
    {
     "name": "stdout",
     "output_type": "stream",
     "text": [
      "[ 1. -1.  2.]\n"
     ]
    }
   ],
   "source": [
    "# using matrix inverse method\n",
    "a1 = [[1,-2,3],[-1,3,-1],[2,-5,5]]\n",
    "a2 = [9,-6,17]\n",
    "a1_inv = np.linalg.inv(a1)\n",
    "res = np.dot(a1_inv,a2)\n",
    "print(res)"
   ]
  },
  {
   "cell_type": "raw",
   "id": "e498079e-a5b1-4ae8-aa64-24311cd3afd1",
   "metadata": {},
   "source": [
    "Q7 using customization matplotlib visualization , plot graph to compare your at least 2 sem result"
   ]
  },
  {
   "cell_type": "code",
   "execution_count": 71,
   "id": "a7dde034-8051-4da9-8854-1e058b7c0968",
   "metadata": {},
   "outputs": [
    {
     "data": {
      "image/png": "[encoded data removed]",
      "text/plain": [
       "<Figure size 640x480 with 1 Axes>"
      ]
     },
     "metadata": {},
     "output_type": "display_data"
    }
   ],
   "source": [
    "import matplotlib.pyplot as plt\n",
    "marks = [80,91,75,93,90,89]\n",
    "label = ['DSA','C','SE','DBMS','CN','OOps']\n",
    "plt.bar(label,marks,color='black')\n",
    "plt.title('2 SEMESTER RESULT')\n",
    "plt.xlabel('Subjects')\n",
    "plt.ylabel('Marks')\n",
    "plt.show()"
   ]
  },
  {
   "cell_type": "code",
   "execution_count": null,
   "id": "0809f840-f3fb-49a2-afb6-41be92e1dddd",
   "metadata": {},
   "outputs": [
    {
     "data": {
      "image/png": "[encoded data removed]",
      "text/plain": [
       "<Figure size 640x480 with 1 Axes>"
      ]
     },
     "metadata": {},
     "output_type": "display_data"
    }
   ],
   "source": [
    "import matplotlib.pyplot as plt\n",
    "import numpy as np\n",
    "semesters = ['Semester 1', 'Semester 2']\n",
    "marks = [7.8, 8.6] \n",
    "bars = plt.bar( marks, semesters, width=0.5, edgecolor='black', linewidth=1.2)\n",
    "\n",
    "plt.title(\"Comparison of Semester Results\", fontsize=16, fontweight='bold', color='navy')\n",
    "plt.xlabel(\"Semester\", fontsize=12)\n",
    "plt.ylabel(\"SGPA / CGPA\", fontsize=12)\n",
    "\n",
    "plt.grid(axis='y', linestyle='--', alpha=0.7)\n",
    "plt.show()\n"
   ]
  },
  {
   "cell_type": "markdown",
   "id": "8d7f9fd5-391b-4b47-ac7e-8388d64698b5",
   "metadata": {},
   "source": [
    "# -----------------DONE-----------------------------"
   ]
  }
 ],
 "metadata": {
  "kernelspec": {
   "display_name": "Python [conda env:base] *",
   "language": "python",
   "name": "conda-base-py"
  },
  "language_info": {
   "codemirror_mode": {
    "name": "ipython",
    "version": 3
   },
   "file_extension": ".py",
   "mimetype": "text/x-python",
   "name": "python",
   "nbconvert_exporter": "python",
   "pygments_lexer": "ipython3",
   "version": "3.12.7"
  }
 },
 "nbformat": 4,
 "nbformat_minor": 5
}
