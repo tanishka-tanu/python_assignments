{
 "cells": [
  {
   "cell_type": "markdown",
   "id": "ce342081-ef63-4dd3-9807-28d4b93f5afb",
   "metadata": {},
   "source": [
    "# Assignment 2"
   ]
  },
  {
   "cell_type": "raw",
   "id": "63a2da3d-f8e5-4574-8d19-a53d388ef1e4",
   "metadata": {},
   "source": [
    "1) Write a python program that takes in a student name, class. It should also take in five subject marks of the students and find the total mark and percentage. Display a result in such a way that their name, class,  and percentage are printed."
   ]
  },
  {
   "cell_type": "code",
   "execution_count": 3,
   "id": "d83f9bcb-fa5c-4222-988d-51b43b45ea55",
   "metadata": {},
   "outputs": [
    {
     "name": "stdin",
     "output_type": "stream",
     "text": [
      "Enter your name:  Tanu\n",
      "Enter your class:  12\n",
      "Enter marks for Maths:  89\n",
      "Enter marks for Social Studies (SST):  78\n",
      "Enter marks for Science:  90\n",
      "Enter marks for Hindi:  97\n",
      "Enter marks for English:  93\n"
     ]
    },
    {
     "name": "stdout",
     "output_type": "stream",
     "text": [
      "\n",
      "-------- Student Result --------\n",
      "Name        : Tanu\n",
      "Class       : 12\n",
      "Total Marks : 447 \n",
      "Percentage  : 89.40%\n",
      "--------------------------------\n",
      "A\n"
     ]
    }
   ],
   "source": [
    "# Taking user input\n",
    "name = input(\"Enter your name: \")\n",
    "student_class = input(\"Enter your class: \")\n",
    "\n",
    "# Taking subject marks\n",
    "maths = int(input(\"Enter marks for Maths: \"))\n",
    "sst = int(input(\"Enter marks for Social Studies (SST): \"))\n",
    "science = int(input(\"Enter marks for Science: \"))\n",
    "hindi = int(input(\"Enter marks for Hindi: \"))\n",
    "english = int(input(\"Enter marks for English: \"))\n",
    "\n",
    "# Calculations\n",
    "total_marks = maths + sst + science + hindi + english\n",
    "per = (total_marks / 500) * 100\n",
    "\n",
    "# Displaying result nicely\n",
    "print(\"\\n-------- Student Result --------\")\n",
    "print(f\"Name        : {name}\")\n",
    "print(f\"Class       : {student_class}\")\n",
    "print(f\"Total Marks : {total_marks} \")\n",
    "print(f\"Percentage  : {per:.2f}%\")\n",
    "print(\"--------------------------------\")\n",
    "\n",
    "\n",
    "if per>60:\n",
    "    print('A')\n",
    "elif per>50 and per<=60:\n",
    "    print('B')\n",
    "elif per>40 and per<=50:\n",
    "    print('C')\n",
    "elif per>33 and per<=40:\n",
    "    print('D')\n",
    "else:\n",
    "    print('Fail')\n"
   ]
  },
  {
   "cell_type": "raw",
   "id": "3f03c8e3-4f0f-4808-8a62-242157fdae42",
   "metadata": {},
   "source": [
    " 2- Input a number from user and find its factorial using for loop"
   ]
  },
  {
   "cell_type": "code",
   "execution_count": 2,
   "id": "0b2ba2c8-693b-408b-bb4a-23fa919047b0",
   "metadata": {},
   "outputs": [
    {
     "name": "stdin",
     "output_type": "stream",
     "text": [
      "enter any number:  5\n"
     ]
    },
    {
     "name": "stdout",
     "output_type": "stream",
     "text": [
      "factorial is:  120\n"
     ]
    }
   ],
   "source": [
    "n = int(input(\"enter any number: \"))\n",
    "f = 1\n",
    "for i in range(1,n+1):\n",
    "    f*=i\n",
    "\n",
    "print(\"factorial is: \",f)\n",
    "    "
   ]
  },
  {
   "cell_type": "raw",
   "id": "1b98dce4-7775-472e-8ced-a3c6089768f4",
   "metadata": {},
   "source": [
    "3- Create a billing program using list. Program should have options to \n",
    "  1. Create Bill\n",
    "  2. Display Item Price and total bill amount\n",
    "  3. Display Total\n",
    "  4. Exit"
   ]
  },
  {
   "cell_type": "code",
   "execution_count": 27,
   "id": "23ca7bed-04ad-4447-b493-a12fa59b70ef",
   "metadata": {},
   "outputs": [
    {
     "name": "stdout",
     "output_type": "stream",
     "text": [
      "1. Create Bill\n",
      "2. Display Item Price and total bill amount\n",
      "3. Display Total\n",
      "4. Exit\n"
     ]
    },
    {
     "name": "stdin",
     "output_type": "stream",
     "text": [
      "enter your choice from 1-4 1\n",
      "enter item name:  chocolate\n",
      "enter the price:  100\n"
     ]
    },
    {
     "name": "stdout",
     "output_type": "stream",
     "text": [
      "'chocolate' added to bill.\n",
      "1. Create Bill\n",
      "2. Display Item Price and total bill amount\n",
      "3. Display Total\n",
      "4. Exit\n"
     ]
    },
    {
     "name": "stdin",
     "output_type": "stream",
     "text": [
      "enter your choice from 1-4 1\n",
      "enter item name:  chole bhature\n",
      "enter the price:  80\n"
     ]
    },
    {
     "name": "stdout",
     "output_type": "stream",
     "text": [
      "'chole bhature' added to bill.\n",
      "1. Create Bill\n",
      "2. Display Item Price and total bill amount\n",
      "3. Display Total\n",
      "4. Exit\n"
     ]
    },
    {
     "name": "stdin",
     "output_type": "stream",
     "text": [
      "enter your choice from 1-4 1\n",
      "enter item name:  maggie\n",
      "enter the price:  40\n"
     ]
    },
    {
     "name": "stdout",
     "output_type": "stream",
     "text": [
      "'maggie' added to bill.\n",
      "1. Create Bill\n",
      "2. Display Item Price and total bill amount\n",
      "3. Display Total\n",
      "4. Exit\n"
     ]
    },
    {
     "name": "stdin",
     "output_type": "stream",
     "text": [
      "enter your choice from 1-4 1\n",
      "enter item name:  white sauce pasta\n",
      "enter the price:  120\n"
     ]
    },
    {
     "name": "stdout",
     "output_type": "stream",
     "text": [
      "'white sauce pasta' added to bill.\n",
      "1. Create Bill\n",
      "2. Display Item Price and total bill amount\n",
      "3. Display Total\n",
      "4. Exit\n"
     ]
    },
    {
     "name": "stdin",
     "output_type": "stream",
     "text": [
      "enter your choice from 1-4 1\n",
      "enter item name:  red velvet pastrie\n",
      "enter the price:  90\n"
     ]
    },
    {
     "name": "stdout",
     "output_type": "stream",
     "text": [
      "'red velvet pastrie' added to bill.\n",
      "1. Create Bill\n",
      "2. Display Item Price and total bill amount\n",
      "3. Display Total\n",
      "4. Exit\n"
     ]
    },
    {
     "name": "stdin",
     "output_type": "stream",
     "text": [
      "enter your choice from 1-4 2\n"
     ]
    },
    {
     "name": "stdout",
     "output_type": "stream",
     "text": [
      "\n",
      "Bill Details\n",
      "chocolate - rs100.0\n",
      "chole bhature - rs80.0\n",
      "maggie - rs40.0\n",
      "white sauce pasta - rs120.0\n",
      "red velvet pastrie - rs90.0\n",
      "Total Amount: rs 430.0\n",
      "1. Create Bill\n",
      "2. Display Item Price and total bill amount\n",
      "3. Display Total\n",
      "4. Exit\n"
     ]
    },
    {
     "name": "stdin",
     "output_type": "stream",
     "text": [
      "enter your choice from 1-4 3\n"
     ]
    },
    {
     "name": "stdout",
     "output_type": "stream",
     "text": [
      "Total Amount to Pay: rs 430.0\n",
      "1. Create Bill\n",
      "2. Display Item Price and total bill amount\n",
      "3. Display Total\n",
      "4. Exit\n"
     ]
    },
    {
     "name": "stdin",
     "output_type": "stream",
     "text": [
      "enter your choice from 1-4 4\n"
     ]
    },
    {
     "name": "stdout",
     "output_type": "stream",
     "text": [
      "Thank you for using the billing system!\n"
     ]
    }
   ],
   "source": [
    "prices = []\n",
    "items = []\n",
    "\n",
    "while True:\n",
    "    print(\"1. Create Bill\")\n",
    "    print(\"2. Display Item Price and total bill amount\")\n",
    "    print(\"3. Display Total\")\n",
    "    print(\"4. Exit\")\n",
    "    choice = input(\"enter your choice from 1-4\")\n",
    "    if choice == '1':\n",
    "        item = input(\"enter item name: \")\n",
    "        price = float(input(\"enter the price: \"))\n",
    "        items.append(item)\n",
    "        prices.append(price)\n",
    "        print(f\"'{item}' added to bill.\")\n",
    "    elif choice == '2':\n",
    "        if not items:\n",
    "            print('No items in bill')\n",
    "        else:\n",
    "            print(\"\\nBill Details\")\n",
    "            for i in range(len(items)):\n",
    "                print(f\"{items[i]} - rs{prices[i]}\")\n",
    "            print(\"Total Amount: rs\", sum(prices))\n",
    "\n",
    "    elif choice == '3':\n",
    "        print(\"Total Amount to Pay: rs\", sum(prices))\n",
    "\n",
    "    elif choice == '4':\n",
    "        print(\"Thank you for using the billing system!\")\n",
    "        break\n",
    "\n",
    "    else:\n",
    "        print(\"Invalid choice! Please enter between 1 and 4.\")\n",
    "            \n",
    "\n",
    "        \n",
    "    \n",
    "\n"
   ]
  },
  {
   "cell_type": "raw",
   "id": "8930636a-61ea-4219-aa95-72cb089d5929",
   "metadata": {},
   "source": [
    "4- Write a  Python program to find the smallest number in a list."
   ]
  },
  {
   "cell_type": "code",
   "execution_count": 15,
   "id": "e05220b1-7b1e-47b8-9219-64a333e7e5e4",
   "metadata": {},
   "outputs": [
    {
     "name": "stdout",
     "output_type": "stream",
     "text": [
      "smallest number in the list is :  9\n"
     ]
    }
   ],
   "source": [
    "lst = [34,22,90,78,56,45,89,12,9,87]\n",
    "length = len(lst)\n",
    "smallest = lst[0]\n",
    "for i in range(0,length):\n",
    "    if lst[i]<smallest:\n",
    "        smallest = lst[i]\n",
    "\n",
    "print(\"smallest number in the list is : \",smallest)"
   ]
  },
  {
   "cell_type": "raw",
   "id": "108c28aa-e984-4702-bc6e-a6daa5c74c82",
   "metadata": {},
   "source": [
    "5,6 - Write a  Python program to find the second greatest and second smallest number in a list."
   ]
  },
  {
   "cell_type": "code",
   "execution_count": 1,
   "id": "bef34945-2aaa-46a0-abaa-c4d73a988d7e",
   "metadata": {},
   "outputs": [
    {
     "name": "stdout",
     "output_type": "stream",
     "text": [
      "[9, 12, 22, 34, 45, 56, 78, 87, 89, 90]\n",
      "second smallest no in list is: 12\n",
      "second largest no in list is: 89\n"
     ]
    }
   ],
   "source": [
    "lst = [34,22,90,78,56,45,89,12,9,87]\n",
    "lst.sort()\n",
    "print(lst)\n",
    "second_smallest = lst[1]\n",
    "print(\"second smallest no in list is:\" ,second_smallest)\n",
    "second_largest = lst[len(lst)-2]\n",
    "print(\"second largest no in list is:\" ,second_largest)\n"
   ]
  }
 ],
 "metadata": {
  "kernelspec": {
   "display_name": "Python [conda env:base] *",
   "language": "python",
   "name": "conda-base-py"
  },
  "language_info": {
   "codemirror_mode": {
    "name": "ipython",
    "version": 3
   },
   "file_extension": ".py",
   "mimetype": "text/x-python",
   "name": "python",
   "nbconvert_exporter": "python",
   "pygments_lexer": "ipython3",
   "version": "3.12.7"
  }
 },
 "nbformat": 4,
 "nbformat_minor": 5
}
